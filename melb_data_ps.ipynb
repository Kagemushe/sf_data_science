{
 "cells": [
  {
   "cell_type": "code",
   "execution_count": 20,
   "metadata": {},
   "outputs": [
    {
     "name": "stdout",
     "output_type": "stream",
     "text": [
      "2/119 Railway St N\n",
      "9/400 Dandenong Rd\n",
      "172 Danks St\n"
     ]
    }
   ],
   "source": [
    "import numpy as np \n",
    "import pandas as pd \n",
    "\n",
    "melb_data = pd.read_csv('C:/IDE/data/melb_data_ps.csv', sep=',')\n",
    "melb_df = melb_data.copy()\n",
    "melb_df.drop(['index', 'Coordinates'], axis=1,inplace=True)\n",
    "#melb_df.head()\n",
    "\n",
    "total_rooms = melb_df['Rooms'] + melb_df['Bedroom'] + melb_df['Bathroom']\n",
    "#display(total_rooms)\n",
    "melb_df['MeanRoomsArea'] = melb_df['BuildingArea']/total_rooms\n",
    "#display(melb_df['MeanRoomsArea'])\n",
    "diff_area = melb_df['BuildingArea'] - melb_df['Landsize']\n",
    "sum_area = melb_df['BuildingArea'] + melb_df['Landsize']\n",
    "melb_df['AreaRatio'] = diff_area/sum_area\n",
    "#display(melb_df['AreaRatio'])\n",
    "\n",
    "#display(melb_df['Date'])\n",
    "melb_df['Date'] = pd.to_datetime(melb_df['Date'], dayfirst=True)\n",
    "#display(melb_df['Date'])\n",
    "years_sold = melb_df['Date'].dt.year\n",
    "#print(years_sold)\n",
    "#print('Min year sold:', years_sold.min())\n",
    "#print('Max year sold:', years_sold.max())\n",
    "#print('Mode year sold:', years_sold.mode()[0])\n",
    "melb_df['MonthSale'] = melb_df['Date'].dt.month\n",
    "#melb_df['MonthSale'].value_counts(normalize=True)\n",
    "delta_days = melb_df['Date'] - pd.to_datetime('2016-01-01')\n",
    "#display(delta_days.dt.days)\n",
    "melb_df['AgeBuilding'] = melb_df['Date'].dt.year - melb_df['YearBuilt']\n",
    "#display(melb_df['AgeBuilding'])\n",
    "melb_df = melb_df.drop('YearBuilt', axis=1)\n",
    "melb_df['WeekdaySale'] = melb_df['Date'].dt.dayofweek\n",
    "weekend_count = melb_df[(melb_df['WeekdaySale'] == 5) | (melb_df['WeekdaySale'] == 6)].shape[0]\n",
    "#print(weekend_count)\n",
    "#print(melb_df['Address'].nunique())\n",
    "print(melb_df['Address'].loc[177])\n",
    "print(melb_df['Address'].loc[1812])\n",
    "print(melb_df['Address'].loc[9001])\n",
    "\n",
    "\n"
   ]
  },
  {
   "cell_type": "code",
   "execution_count": 21,
   "metadata": {},
   "outputs": [
    {
     "data": {
      "text/plain": [
       "0        5\n",
       "1        3\n",
       "2        5\n",
       "3        5\n",
       "4        5\n",
       "        ..\n",
       "13575    5\n",
       "13576    5\n",
       "13577    5\n",
       "13578    5\n",
       "13579    5\n",
       "Name: WeekdaySale, Length: 13580, dtype: int32"
      ]
     },
     "metadata": {},
     "output_type": "display_data"
    }
   ],
   "source": [
    "def get_street_type(address):\n",
    "    \n",
    "    exclude_list = ['N', 'S', 'W', 'E']\n",
    "    address_list = address.split(' ')\n",
    "    street_type = address_list[-1]\n",
    "    if street_type in exclude_list:\n",
    "        street_type = address_list[-2]\n",
    "        \n",
    "    return street_type\n",
    "\n",
    "street_types = melb_df['Address'].apply(get_street_type)\n",
    "#display(street_types) \n",
    "#print(street_types.nunique())   \n",
    "#display(street_types.value_counts())\n",
    "popular_stypes = street_types.value_counts().nlargest(10).index\n",
    "#print(popular_stypes)\n",
    "melb_df['StreetType'] = street_types.apply(lambda x: x if x in popular_stypes else 'other')\n",
    "#display(melb_df['StreetType'])\n",
    "#print(melb_df['StreetType'].nunique())\n",
    "melb_df = melb_df.drop('Address', axis=1)\n",
    "display(melb_df['WeekdaySale'])"
   ]
  },
  {
   "cell_type": "code",
   "execution_count": 40,
   "metadata": {},
   "outputs": [
    {
     "data": {
      "text/plain": [
       "0        1\n",
       "1        0\n",
       "2        1\n",
       "3        1\n",
       "4        1\n",
       "        ..\n",
       "13575    1\n",
       "13576    1\n",
       "13577    1\n",
       "13578    1\n",
       "13579    1\n",
       "Name: Weekend, Length: 13580, dtype: int64"
      ]
     },
     "metadata": {},
     "output_type": "display_data"
    },
    {
     "name": "stdout",
     "output_type": "stream",
     "text": [
      "1081199\n"
     ]
    }
   ],
   "source": [
    "#Задание 4.2\n",
    "def get_weekend(weekday):\n",
    "    \n",
    "    if weekday == 5 or weekday == 6:\n",
    "        return 1\n",
    "    else:\n",
    "        return 0\n",
    "    \n",
    "melb_df['Weekend'] = melb_df['WeekdaySale'].apply(get_weekend)\n",
    "display(melb_df['Weekend'])\n",
    "mean_price = round(melb_df[melb_df['Weekend'] == 1]['Price'].mean())\n",
    "print(mean_price)\n"
   ]
  },
  {
   "cell_type": "code",
   "execution_count": 49,
   "metadata": {},
   "outputs": [
    {
     "name": "stdout",
     "output_type": "stream",
     "text": [
      "Index(['Nelson', 'Jellis', 'other', 'hockingstuart', 'Barry', 'Ray',\n",
      "       'Marshall', 'Buxton', 'Biggin', 'Brad', 'Woodards', 'Fletchers', 'Jas',\n",
      "       'Greg', 'McGrath', 'Sweeney', 'Noel', 'Miles', 'RT', 'Gary',\n",
      "       'Harcourts', 'Hodges', 'YPA', 'Stockdale', 'Village', 'Kay', 'Raine',\n",
      "       'Williams', 'Love', 'Douglas', 'Chisholm', 'RW', 'Rendina', 'HAR',\n",
      "       'O'Brien', 'C21', 'Collins', 'Cayzer', 'Purplebricks', 'Eview',\n",
      "       'Philip', 'Buckingham', 'Bells', 'Thomson', 'Alexkarbon', 'Nick',\n",
      "       'Burnham', 'McDonald', 'Moonee'],\n",
      "      dtype='object', name='SellerG')\n",
      "1.3\n"
     ]
    }
   ],
   "source": [
    "# Задание 4.3\n",
    "popular_seller = melb_df['SellerG'].value_counts().nlargest(49).index\n",
    "print(popular_seller)\n",
    "melb_df['SellerG'] = melb_df['SellerG'].apply(lambda x: x if x in popular_seller else 'other')\n",
    "print(round((melb_df[melb_df['SellerG'] == 'Nelson']['Price'].min())/(melb_df[melb_df['SellerG'] == 'other']['Price'].min()), 1))"
   ]
  },
  {
   "cell_type": "code",
   "execution_count": 41,
   "metadata": {},
   "outputs": [
    {
     "name": "stdout",
     "output_type": "stream",
     "text": [
      "68.92932862190813\n"
     ]
    }
   ],
   "source": [
    "df = pd.read_csv('https://raw.githubusercontent.com/justmarkham/pandas-videos/master/data/ufo.csv', sep=',')\n",
    "df['Time'] = pd.to_datetime(df['Time'])\n",
    "year_watch = df['Time'].dt.year\n",
    "#print(year_watch.mode()[0])\n",
    "#display(df['Time'])\n",
    "df['Date'] = df['Time'].dt.date\n",
    "watch_mean = df[df['State']=='NV']['Date'].diff().dt.days.mean()\n",
    "print(watch_mean)"
   ]
  }
 ],
 "metadata": {
  "kernelspec": {
   "display_name": "Python 3",
   "language": "python",
   "name": "python3"
  },
  "language_info": {
   "codemirror_mode": {
    "name": "ipython",
    "version": 3
   },
   "file_extension": ".py",
   "mimetype": "text/x-python",
   "name": "python",
   "nbconvert_exporter": "python",
   "pygments_lexer": "ipython3",
   "version": "3.9.10"
  }
 },
 "nbformat": 4,
 "nbformat_minor": 2
}
