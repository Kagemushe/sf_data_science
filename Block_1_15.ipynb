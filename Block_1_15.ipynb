{
 "cells": [
  {
   "cell_type": "code",
   "execution_count": 1,
   "metadata": {},
   "outputs": [
    {
     "name": "stdout",
     "output_type": "stream",
     "text": [
      "False\n",
      "(5, 2)\n"
     ]
    }
   ],
   "source": [
    "number = 2.5\n",
    "# Вызовем метод is_integer. Он скажет нам, является ли number целым числом\n",
    "print(number.is_integer())\n",
    "\n",
    "# Попробуем представить number как обыкновенную дробь\n",
    "print(number.as_integer_ratio())"
   ]
  },
  {
   "cell_type": "code",
   "execution_count": 2,
   "metadata": {},
   "outputs": [
    {
     "name": "stdout",
     "output_type": "stream",
     "text": [
      "2\n",
      "['Alexandra', 'Stanislav', 'Vasiliy', 'Vasiliy']\n"
     ]
    }
   ],
   "source": [
    "people = [\"Vasiliy\", \"Stanislav\", \"Alexandra\", \"Vasiliy\"]\n",
    "\n",
    "# Посчитаем число Василиев методом count\n",
    "print(people.count(\"Vasiliy\"))\n",
    "\n",
    "# Теперь отсортируем\n",
    "people.sort()\n",
    "print(people)"
   ]
  },
  {
   "cell_type": "markdown",
   "metadata": {},
   "source": [
    "# Классы"
   ]
  },
  {
   "cell_type": "code",
   "execution_count": 3,
   "metadata": {},
   "outputs": [
    {
     "name": "stdout",
     "output_type": "stream",
     "text": [
      "<class 'float'>\n",
      "<class 'list'>\n"
     ]
    }
   ],
   "source": [
    "number = 2.5\n",
    "print(number.__class__)\n",
    "\n",
    "people = [\"Vasiliy\", \"Stanislav\", \"Alexandra\", \"Vasiliy\"]\n",
    "print(people.__class__)"
   ]
  },
  {
   "cell_type": "code",
   "execution_count": 4,
   "metadata": {},
   "outputs": [],
   "source": [
    "# Используем ключевое слово class, за которым идет название класса\n",
    "class SalesReport():\n",
    "    pass\n",
    "\n",
    "# Сравните это с определением пустой функции\n",
    "# Команда pass не делает ничего, используем потому что python требует, чтобы бы было хоть что-то\n",
    "def build_report():\n",
    "    pass\n",
    "\n",
    "# Определим еще один класс\n",
    "# Для имен классов используются имена в формате CamelCase, начало слов с большой буквы\n",
    "# Функции пишутся в формате snake_case\n",
    "class SkillfactoryStudent():\n",
    "    pass"
   ]
  },
  {
   "cell_type": "code",
   "execution_count": 5,
   "metadata": {},
   "outputs": [
    {
     "name": "stdout",
     "output_type": "stream",
     "text": [
      "False\n"
     ]
    }
   ],
   "source": [
    "class SalesReport():\n",
    "    pass\n",
    "\n",
    "# создаем обьект по классу\n",
    "report = SalesReport()\n",
    "\n",
    "# можно создавать множество обьектов по одному классу\n",
    "report_2 = SalesReport()\n",
    "\n",
    "# Это будут разные обьекты\n",
    "print(report == report_2)"
   ]
  },
  {
   "cell_type": "markdown",
   "metadata": {},
   "source": [
    "# 4. Атрибуты и методы\n",
    "# Атрибуты и методы"
   ]
  },
  {
   "cell_type": "code",
   "execution_count": 6,
   "metadata": {},
   "outputs": [
    {
     "name": "stdout",
     "output_type": "stream",
     "text": [
      "Total amount: 10\n",
      "Total amount: 20\n"
     ]
    }
   ],
   "source": [
    "# Создаем пустой класс\n",
    "class SalesReport():\n",
    "    pass\n",
    "\n",
    "# Создаем ервый отчет по продажам\n",
    "report = SalesReport()\n",
    "\n",
    "# Добавим новый атрибут обьекту\n",
    "# Напишем через точку имя атрибута, далее как с обычной переменной\n",
    "report.amount = 10\n",
    "\n",
    "# Делаем то же для второго отчета\n",
    "report_2 = SalesReport()\n",
    "report_2.amount =20\n",
    "\n",
    "# Вспомогательная функция будет печатать сумму из отчета\n",
    "def print_report(report):\n",
    "    print(\"Total amount:\", report.amount)\n",
    "    \n",
    "print_report(report)\n",
    "print_report(report_2)    "
   ]
  },
  {
   "cell_type": "code",
   "execution_count": 7,
   "metadata": {},
   "outputs": [
    {
     "name": "stdout",
     "output_type": "stream",
     "text": [
      "Total amount: 10\n",
      "Total amount: 20\n"
     ]
    }
   ],
   "source": [
    "class SalesReport():\n",
    "    # Наш новый метод внутри класса\n",
    "    # Определяем его похожим образом с функциями\n",
    "    # Но помещаем внутрь класса и первым аргументом передаем self\n",
    "    def print_report(self):\n",
    "        print(\"Total amount:\", self.amount)\n",
    "        \n",
    "report = SalesReport()\n",
    "report.amount =10\n",
    "report_2 = SalesReport()\n",
    "report_2.amount = 20\n",
    "# Используем наши новые методы\n",
    "report.print_report()\n",
    "report_2.print_report()        "
   ]
  },
  {
   "cell_type": "code",
   "execution_count": 8,
   "metadata": {},
   "outputs": [
    {
     "name": "stdout",
     "output_type": "stream",
     "text": [
      "Total sales: 40000\n"
     ]
    }
   ],
   "source": [
    "class SalesReport():\n",
    "    # Позволим добавлять много разных сделок\n",
    "    def add_deal(self, amount):\n",
    "        # На первой сделке создадим список для хранения всех сделок\n",
    "        if not hasattr(self, 'deals'):\n",
    "            self.deals = []\n",
    "        # Добавим текущую сделку\n",
    "        self.deals.append(amount)\n",
    "        \n",
    "    # Посчитаем сумму всех сделок\n",
    "    def total_amount(self):\n",
    "        return sum(self.deals)\n",
    "    \n",
    "    def print_report(self):\n",
    "        print(\"Total sales:\", self.total_amount())\n",
    "        \n",
    "# Используем наши новые возможности\n",
    "# Добавим две сделки и распечатаем отчет\n",
    "report = SalesReport()\n",
    "report.add_deal(10_000)\n",
    "report.add_deal(30_000)\n",
    "report.print_report()    "
   ]
  },
  {
   "cell_type": "markdown",
   "metadata": {},
   "source": [
    "# Метод _init_"
   ]
  },
  {
   "cell_type": "code",
   "execution_count": 9,
   "metadata": {},
   "outputs": [
    {
     "ename": "AttributeError",
     "evalue": "'SalesReport' object has no attribute 'deals'",
     "output_type": "error",
     "traceback": [
      "\u001b[1;31m---------------------------------------------------------------------------\u001b[0m",
      "\u001b[1;31mAttributeError\u001b[0m                            Traceback (most recent call last)",
      "Cell \u001b[1;32mIn[9], line 14\u001b[0m\n\u001b[0;32m     11\u001b[0m         \u001b[38;5;28mprint\u001b[39m(\u001b[38;5;124m\"\u001b[39m\u001b[38;5;124mTotal sales:\u001b[39m\u001b[38;5;124m\"\u001b[39m, \u001b[38;5;28mself\u001b[39m\u001b[38;5;241m.\u001b[39mtotal_amount())\n\u001b[0;32m     13\u001b[0m report \u001b[38;5;241m=\u001b[39m SalesReport()\n\u001b[1;32m---> 14\u001b[0m \u001b[43mreport\u001b[49m\u001b[38;5;241;43m.\u001b[39;49m\u001b[43mtotal_amount\u001b[49m\u001b[43m(\u001b[49m\u001b[43m)\u001b[49m                \n",
      "Cell \u001b[1;32mIn[9], line 8\u001b[0m, in \u001b[0;36mSalesReport.total_amount\u001b[1;34m(self)\u001b[0m\n\u001b[0;32m      7\u001b[0m \u001b[38;5;28;01mdef\u001b[39;00m \u001b[38;5;21mtotal_amount\u001b[39m(\u001b[38;5;28mself\u001b[39m):\n\u001b[1;32m----> 8\u001b[0m     \u001b[38;5;28;01mreturn\u001b[39;00m \u001b[38;5;28msum\u001b[39m(\u001b[38;5;28;43mself\u001b[39;49m\u001b[38;5;241;43m.\u001b[39;49m\u001b[43mdeals\u001b[49m)\n",
      "\u001b[1;31mAttributeError\u001b[0m: 'SalesReport' object has no attribute 'deals'"
     ]
    }
   ],
   "source": [
    "class SalesReport():\n",
    "    def add_deal(sefl, amount):\n",
    "        if not hasattr(self, 'deals'):\n",
    "            self.deals = []\n",
    "        self.deals.append(amount)\n",
    "        \n",
    "    def total_amount(self):\n",
    "        return sum(self.deals)\n",
    "    \n",
    "    def print_report(self):\n",
    "        print(\"Total sales:\", self.total_amount())\n",
    "        \n",
    "report = SalesReport()\n",
    "report.total_amount()                "
   ]
  },
  {
   "cell_type": "code",
   "execution_count": null,
   "metadata": {},
   "outputs": [
    {
     "name": "stdout",
     "output_type": "stream",
     "text": [
      "[]\n"
     ]
    },
    {
     "data": {
      "text/plain": [
       "0"
      ]
     },
     "execution_count": 15,
     "metadata": {},
     "output_type": "execute_result"
    }
   ],
   "source": [
    "class SalesReport():\n",
    "    def __init__(self):\n",
    "        self.deals = []\n",
    "        \n",
    "    def add_deal(self, amount):\n",
    "        self.deals.append(amount)\n",
    "        \n",
    "    def total_amount(self):\n",
    "        return sum(self.deals)\n",
    "    \n",
    "    def print_report(self):\n",
    "        print(\"Total sales:\", self.total_amount())\n",
    "        \n",
    "report = SalesReport()\n",
    "print(report.deals)\n",
    "report.total_amount()                "
   ]
  },
  {
   "cell_type": "code",
   "execution_count": null,
   "metadata": {},
   "outputs": [
    {
     "name": "stdout",
     "output_type": "stream",
     "text": [
      "Manager: Ivan Taranov\n",
      "Tottal sales: 40000\n"
     ]
    }
   ],
   "source": [
    "class SalesReport():\n",
    "    # Будем принимать в _init_ еще и имя менеджера\n",
    "    def __init__(self, manager_name):\n",
    "        self.deals = []\n",
    "        self.manager_name = manager_name\n",
    "        \n",
    "    def add_deal(self, amount):\n",
    "        self.deals.append(amount)\n",
    "        \n",
    "    def total_amount(self):\n",
    "        return sum(self.deals)\n",
    "    \n",
    "    def print_report(self):\n",
    "        # И добавлять имя менеджера\n",
    "        print(\"Manager:\", self.manager_name)\n",
    "        print(\"Tottal sales:\", self.total_amount())\n",
    "        \n",
    "report = SalesReport(\"Ivan Taranov\")\n",
    "report.add_deal(10_000)\n",
    "report.add_deal(30_000)\n",
    "report.print_report()                "
   ]
  },
  {
   "cell_type": "code",
   "execution_count": null,
   "metadata": {},
   "outputs": [
    {
     "name": "stdout",
     "output_type": "stream",
     "text": [
      "Employee:  Ivan Semenov\n",
      "Total sales: 390000\n",
      "Average sales: 130000.0\n",
      "Companies: ['SkyEng', 'PepsiCo']\n"
     ]
    }
   ],
   "source": [
    "class SalesReport():\n",
    "    def __init__(self, employee_name):\n",
    "        self.deals = []\n",
    "        self.employee_name = employee_name\n",
    "        \n",
    "    def add_deal(self, company, amount):\n",
    "        self.deals.append({'company': company, 'amount': amount})\n",
    "        \n",
    "    def total_amount(self):\n",
    "        return sum([deal['amount'] for deal in self.deals])\n",
    "    \n",
    "    def average_deal(self):\n",
    "        return self.total_amount()/len(self.deals)\n",
    "    \n",
    "    def all_companies(self):\n",
    "        return list(set([deal['company'] for deal in self.deals]))\n",
    "    \n",
    "    def print_report(self):\n",
    "        print(\"Employee: \", self.employee_name)\n",
    "        print(\"Total sales:\", self.total_amount())\n",
    "        print(\"Average sales:\", self.average_deal())\n",
    "        print(\"Companies:\", self.all_companies())\n",
    "        \n",
    "report = SalesReport(\"Ivan Semenov\")\n",
    "\n",
    "report.add_deal(\"PepsiCo\", 120_000)\n",
    "report.add_deal(\"SkyEng\", 250_000)\n",
    "report.add_deal(\"PepsiCo\", 20_000)\n",
    "\n",
    "report.print_report()                "
   ]
  },
  {
   "cell_type": "markdown",
   "metadata": {},
   "source": [
    "# 5. Практические примеры"
   ]
  },
  {
   "cell_type": "markdown",
   "metadata": {},
   "source": [
    "## Отслеживание состояния"
   ]
  },
  {
   "cell_type": "code",
   "execution_count": null,
   "metadata": {},
   "outputs": [
    {
     "name": "stdout",
     "output_type": "stream",
     "text": [
      "Order price for max@gmail.com is 100\n",
      "Order price for lova@yandex.ru is 180.0\n",
      "Order price for german@sberbank.ru is 500\n",
      "Order price for german@sberbank.ru is 450.0\n"
     ]
    }
   ],
   "source": [
    "class Client():\n",
    "    # Базовые данные\n",
    "    def __init__(self, email, order_num, registration_year):\n",
    "        self.email = email\n",
    "        self.order_num = order_num\n",
    "        self.registration_year = registration_year\n",
    "        self.discount = 0\n",
    "        \n",
    "    # Оформление заказа\n",
    "    def make_order(self, price):\n",
    "        self.update_discount()\n",
    "        self.order_num += 1\n",
    "        # Здесь должно быть оформление заказа, но мы просто выведем цену\n",
    "        discounted_price = price * (1 - self.discount)\n",
    "        print(f\"Order price for {self.email} is {discounted_price}\")\n",
    "        \n",
    "    # Назначение скидки\n",
    "    def update_discount(self):\n",
    "        if self.registration_year < 2018 and self.order_num >= 5:\n",
    "            self.discount = 0.1\n",
    "            \n",
    "# Применение\n",
    "\n",
    "# Сделаем подобие базы\n",
    "client_db = [\n",
    "    Client(\"max@gmail.com\", 2, 2019),\n",
    "    Client(\"lova@yandex.ru\", 10, 2015),\n",
    "    Client(\"german@sberbank.ru\", 4, 2017)\n",
    "]\n",
    "\n",
    "# Сгенерируем заказы\n",
    "client_db[0].make_order(100)\n",
    "\n",
    "client_db[1].make_order(200)     \n",
    "\n",
    "client_db[2].make_order(500)   \n",
    "client_db[2].make_order(500)          \n",
    "    "
   ]
  },
  {
   "cell_type": "markdown",
   "metadata": {},
   "source": [
    "## Комбинация операций"
   ]
  },
  {
   "cell_type": "code",
   "execution_count": null,
   "metadata": {},
   "outputs": [
    {
     "name": "stdout",
     "output_type": "stream",
     "text": [
      "[1.0, 17.0, 4.0, 0.0, 8.0]\n",
      "6.892024376045111\n",
      "4.0\n"
     ]
    }
   ],
   "source": [
    "import statistics\n",
    "\n",
    "class DataFrame():\n",
    "    def __init__(self, column, fill_value=0):\n",
    "        # Инициализируем атрибуты\n",
    "        self.column = column\n",
    "        self.fill_value = fill_value\n",
    "        # Заполним пропуски\n",
    "        self.fill_missed()\n",
    "        # Конвертируем все элементы в числа\n",
    "        self.to_float()\n",
    "        \n",
    "    def fill_missed(self):\n",
    "        for i, value in enumerate(self.column):\n",
    "            if value is None or value == '':\n",
    "                self.column[i] = self.fill_value\n",
    "                \n",
    "    def to_float(self):\n",
    "        self.column = [float(value) for value in self.column]\n",
    "        \n",
    "    def median(self):\n",
    "        return statistics.median(self.column)\n",
    "    \n",
    "    def mean(self):\n",
    "        return statistics.mean(self.column)\n",
    "    \n",
    "    def deviation(self):\n",
    "        return statistics.stdev(self.column)\n",
    "    \n",
    "# Воспульзуемся классом\n",
    "df = DataFrame([\"1\", 17, 4, None, 8])\n",
    "\n",
    "print(df.column)  \n",
    "print(df.deviation())\n",
    "print(df.median())                     "
   ]
  },
  {
   "cell_type": "markdown",
   "metadata": {},
   "source": [
    "## Класс-обертка"
   ]
  },
  {
   "cell_type": "code",
   "execution_count": null,
   "metadata": {},
   "outputs": [
    {
     "name": "stdout",
     "output_type": "stream",
     "text": [
      "{'perfomance': [10, 20, 10], 'clients': {'Romashka': 10, 'Vector': 34}}\n"
     ]
    }
   ],
   "source": [
    "import pickle\n",
    "from datetime import datetime\n",
    "from os import path\n",
    "\n",
    "class Dumper():\n",
    "    def __init__(self, archive_dir=\"archive/\"):\n",
    "        self.archive_dir = archive_dir\n",
    "        \n",
    "    def dump(self, data):\n",
    "        # Библиотека pickle позволяет доставать и класть обьекты в файл\n",
    "        with open(self.get_file_name(), 'wb') as file:\n",
    "            pickle.dump(data, file)\n",
    "            \n",
    "    def load_for_day(self, day):\n",
    "        file_name = path.join(self.archive_dir, day + \".pkl\")\n",
    "        with open(file_name, 'rb') as file:\n",
    "            sets = pickle.load(file)\n",
    "        return sets\n",
    "    \n",
    "    # возвращает корректное имя файла\n",
    "    def get_file_name(self):\n",
    "        today = datetime.now().strftime(\"%y-%m-%d\")\n",
    "        return path.join(self.archive_dir, today + \".pkl\")\n",
    "    \n",
    "# Пример использования\n",
    "data = {\n",
    "    'perfomance': [10, 20, 10],\n",
    "    'clients': {\"Romashka\": 10, \"Vector\": 34}\n",
    "}\n",
    "\n",
    "dumper = Dumper()\n",
    "\n",
    "# Сохраним данные\n",
    "dumper.dump(data)\n",
    "\n",
    "# Восстановим для сегодняшней даты\n",
    "file_name = datetime.now().strftime(\"%y-%m-%d\")\n",
    "restored_data = dumper.load_for_day(file_name)\n",
    "print(restored_data)                    \n",
    "    "
   ]
  },
  {
   "cell_type": "markdown",
   "metadata": {},
   "source": [
    "# 6. Проверка знаний"
   ]
  },
  {
   "cell_type": "code",
   "execution_count": 10,
   "metadata": {},
   "outputs": [],
   "source": [
    "class DataBase():\n",
    "    def __init__(self):\n",
    "        print(self)"
   ]
  },
  {
   "cell_type": "markdown",
   "metadata": {},
   "source": [
    "# 7. Применение ООп для работы с файлами\n",
    "## Путь к файлу"
   ]
  },
  {
   "cell_type": "code",
   "execution_count": 12,
   "metadata": {},
   "outputs": [
    {
     "name": "stdout",
     "output_type": "stream",
     "text": [
      "c:\\IDE\\data\n"
     ]
    }
   ],
   "source": [
    "import os\n",
    "# Получить текущий путь\n",
    "start_path = os.getcwd()\n",
    "print(start_path)"
   ]
  },
  {
   "cell_type": "code",
   "execution_count": 13,
   "metadata": {},
   "outputs": [
    {
     "data": {
      "text/plain": [
       "'c:\\\\IDE'"
      ]
     },
     "execution_count": 13,
     "metadata": {},
     "output_type": "execute_result"
    }
   ],
   "source": [
    "os.chdir(\"..\") # подняться на один уровень выше\n",
    "os.getcwd()"
   ]
  },
  {
   "cell_type": "code",
   "execution_count": 14,
   "metadata": {},
   "outputs": [
    {
     "data": {
      "text/plain": [
       "'c:\\\\IDE\\\\data'"
      ]
     },
     "execution_count": 14,
     "metadata": {},
     "output_type": "execute_result"
    }
   ],
   "source": [
    "os.chdir(start_path)\n",
    "os.getcwd()"
   ]
  },
  {
   "cell_type": "code",
   "execution_count": 15,
   "metadata": {},
   "outputs": [
    {
     "name": "stdout",
     "output_type": "stream",
     "text": [
      "['archive', 'Block1_12_8.ipynb', 'block_1_10_5.ipynb', 'Block_1_15.ipynb', 'churn.csv', 'churn_py.ipynb', 'country_vaccinations.csv', 'covid_data.csv', 'covid_py.ipynb', 'dates.csv', 'diabetes.ipynb', 'diabetes_data.csv', 'lsn_vizualization_types.ipynb', 'melb_data.csv', 'melb_data_fe.csv', 'melb_data_fe.ipynb', 'melb_data_ps.csv', 'melb_data_ps.ipynb', 'movies.csv', 'orders.csv', 'plotly', 'products.csv', 'ratings1.csv', 'ratings2.csv', 'ratings_movies.csv', 'rating_movies.ipynb', 'sber_data.csv', 'sber_py.ipynb']\n"
     ]
    }
   ],
   "source": [
    "# список файлов и директорий в папке\n",
    "print(os.listdir())"
   ]
  }
 ],
 "metadata": {
  "kernelspec": {
   "display_name": "Python 3",
   "language": "python",
   "name": "python3"
  },
  "language_info": {
   "codemirror_mode": {
    "name": "ipython",
    "version": 3
   },
   "file_extension": ".py",
   "mimetype": "text/x-python",
   "name": "python",
   "nbconvert_exporter": "python",
   "pygments_lexer": "ipython3",
   "version": "3.9.10"
  }
 },
 "nbformat": 4,
 "nbformat_minor": 2
}
