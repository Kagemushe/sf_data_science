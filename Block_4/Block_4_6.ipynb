{
 "cells": [
  {
   "cell_type": "markdown",
   "id": "18f61c12",
   "metadata": {},
   "source": [
    "# <center>Блок 4. Введение в машинное обучение<center>\n",
    "## <center>ML-6. Отбор и селекция признаков<center>\n",
    "### <center>1.Введение<center>"
   ]
  }
 ],
 "metadata": {
  "language_info": {
   "name": "python"
  }
 },
 "nbformat": 4,
 "nbformat_minor": 5
}
