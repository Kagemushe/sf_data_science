{
 "cells": [
  {
   "cell_type": "markdown",
   "id": "18f61c12",
   "metadata": {},
   "source": [
    "# <center>Блок 4. Введение в машинное обучение<center>\n",
    "## <center>ML-6. Отбор и селекция признаков<center>\n",
    "### <center>1.Введение<center>\n",
    "### <center>2.Способы представления данных<center>"
   ]
  },
  {
   "cell_type": "code",
   "execution_count": 1,
   "id": "169b8b09",
   "metadata": {},
   "outputs": [],
   "source": [
    "import pandas as pd"
   ]
  },
  {
   "cell_type": "code",
   "execution_count": 4,
   "id": "e895980c",
   "metadata": {},
   "outputs": [
    {
     "data": {
      "text/html": [
       "<div>\n",
       "<style scoped>\n",
       "    .dataframe tbody tr th:only-of-type {\n",
       "        vertical-align: middle;\n",
       "    }\n",
       "\n",
       "    .dataframe tbody tr th {\n",
       "        vertical-align: top;\n",
       "    }\n",
       "\n",
       "    .dataframe thead th {\n",
       "        text-align: right;\n",
       "    }\n",
       "</style>\n",
       "<table border=\"1\" class=\"dataframe\">\n",
       "  <thead>\n",
       "    <tr style=\"text-align: right;\">\n",
       "      <th></th>\n",
       "      <th>price</th>\n",
       "      <th>year</th>\n",
       "      <th>condition</th>\n",
       "      <th>cylinders</th>\n",
       "      <th>odometer</th>\n",
       "      <th>title_status</th>\n",
       "      <th>transmission</th>\n",
       "      <th>drive</th>\n",
       "      <th>size</th>\n",
       "      <th>lat</th>\n",
       "      <th>long</th>\n",
       "      <th>weather</th>\n",
       "    </tr>\n",
       "  </thead>\n",
       "  <tbody>\n",
       "    <tr>\n",
       "      <th>0</th>\n",
       "      <td>43900</td>\n",
       "      <td>2016</td>\n",
       "      <td>4</td>\n",
       "      <td>6</td>\n",
       "      <td>43500</td>\n",
       "      <td>clean</td>\n",
       "      <td>automatic</td>\n",
       "      <td>4wd</td>\n",
       "      <td>full-size</td>\n",
       "      <td>36.471500</td>\n",
       "      <td>-82.483400</td>\n",
       "      <td>59.0</td>\n",
       "    </tr>\n",
       "    <tr>\n",
       "      <th>1</th>\n",
       "      <td>15490</td>\n",
       "      <td>2009</td>\n",
       "      <td>2</td>\n",
       "      <td>8</td>\n",
       "      <td>98131</td>\n",
       "      <td>clean</td>\n",
       "      <td>automatic</td>\n",
       "      <td>4wd</td>\n",
       "      <td>full-size</td>\n",
       "      <td>40.468826</td>\n",
       "      <td>-74.281734</td>\n",
       "      <td>52.0</td>\n",
       "    </tr>\n",
       "    <tr>\n",
       "      <th>2</th>\n",
       "      <td>2495</td>\n",
       "      <td>2002</td>\n",
       "      <td>2</td>\n",
       "      <td>8</td>\n",
       "      <td>201803</td>\n",
       "      <td>clean</td>\n",
       "      <td>automatic</td>\n",
       "      <td>4wd</td>\n",
       "      <td>full-size</td>\n",
       "      <td>42.477134</td>\n",
       "      <td>-82.949564</td>\n",
       "      <td>45.0</td>\n",
       "    </tr>\n",
       "    <tr>\n",
       "      <th>3</th>\n",
       "      <td>1300</td>\n",
       "      <td>2000</td>\n",
       "      <td>1</td>\n",
       "      <td>8</td>\n",
       "      <td>170305</td>\n",
       "      <td>rebuilt</td>\n",
       "      <td>automatic</td>\n",
       "      <td>4wd</td>\n",
       "      <td>full-size</td>\n",
       "      <td>40.764373</td>\n",
       "      <td>-82.349503</td>\n",
       "      <td>49.0</td>\n",
       "    </tr>\n",
       "    <tr>\n",
       "      <th>4</th>\n",
       "      <td>13865</td>\n",
       "      <td>2010</td>\n",
       "      <td>3</td>\n",
       "      <td>8</td>\n",
       "      <td>166062</td>\n",
       "      <td>clean</td>\n",
       "      <td>automatic</td>\n",
       "      <td>4wd</td>\n",
       "      <td>NaN</td>\n",
       "      <td>49.210949</td>\n",
       "      <td>-123.114720</td>\n",
       "      <td>NaN</td>\n",
       "    </tr>\n",
       "  </tbody>\n",
       "</table>\n",
       "</div>"
      ],
      "text/plain": [
       "   price  year  condition  cylinders  odometer title_status transmission  \\\n",
       "0  43900  2016          4          6     43500        clean    automatic   \n",
       "1  15490  2009          2          8     98131        clean    automatic   \n",
       "2   2495  2002          2          8    201803        clean    automatic   \n",
       "3   1300  2000          1          8    170305      rebuilt    automatic   \n",
       "4  13865  2010          3          8    166062        clean    automatic   \n",
       "\n",
       "  drive       size        lat        long  weather  \n",
       "0   4wd  full-size  36.471500  -82.483400     59.0  \n",
       "1   4wd  full-size  40.468826  -74.281734     52.0  \n",
       "2   4wd  full-size  42.477134  -82.949564     45.0  \n",
       "3   4wd  full-size  40.764373  -82.349503     49.0  \n",
       "4   4wd        NaN  49.210949 -123.114720      NaN  "
      ]
     },
     "execution_count": 4,
     "metadata": {},
     "output_type": "execute_result"
    }
   ],
   "source": [
    "data = pd.read_excel('C:\\\\IDE\\\\data\\\\Block_4\\\\data_ford_price.xlsx')\n",
    "data.head()"
   ]
  },
  {
   "cell_type": "code",
   "execution_count": 5,
   "id": "0258ec14",
   "metadata": {},
   "outputs": [],
   "source": [
    "X = data.drop('price', axis=1)\n",
    "y = data['price']"
   ]
  },
  {
   "cell_type": "code",
   "execution_count": 6,
   "id": "f7ee24dc",
   "metadata": {},
   "outputs": [
    {
     "name": "stdout",
     "output_type": "stream",
     "text": [
      "категории: ['BSc' 'MSc' 'PhD' 'начальное' 'нет' 'среднее']\n"
     ]
    },
    {
     "data": {
      "text/plain": [
       "array([[0, 0, 0, 0, 1, 0],\n",
       "       [0, 1, 0, 0, 0, 0]])"
      ]
     },
     "execution_count": 6,
     "metadata": {},
     "output_type": "execute_result"
    }
   ],
   "source": [
    "from sklearn.preprocessing import LabelBinarizer\n",
    "\n",
    "lb = LabelBinarizer()\n",
    "education = ['нет', 'начальное', 'среднее', 'BSc', 'MSc', 'PhD']\n",
    "\n",
    "lb.fit(education)\n",
    "print('категории:', lb.classes_)\n",
    "lb.transform(['нет', 'MSc'])"
   ]
  },
  {
   "cell_type": "code",
   "execution_count": 14,
   "id": "4cce1d00",
   "metadata": {},
   "outputs": [
    {
     "name": "stdout",
     "output_type": "stream",
     "text": [
      "Число уникальных значений признака: cylinders 6\n",
      "Число уникальных значений признака: title_status 5\n",
      "Число уникальных значений признака: transmission 3\n",
      "Число уникальных значений признака: drive 3\n",
      "Число уникальных значений признака: size 4\n"
     ]
    }
   ],
   "source": [
    "columns_to_change = ['cylinders', 'title_status', 'transmission', 'drive', 'size']\n",
    "for column in columns_to_change:\n",
    "    print('Число уникальных значений признака: {}'.format(column), data[column].nunique())"
   ]
  },
  {
   "cell_type": "code",
   "execution_count": 15,
   "id": "1af90f75",
   "metadata": {},
   "outputs": [
    {
     "name": "stdout",
     "output_type": "stream",
     "text": [
      "['cylinders_3' 'cylinders_4' 'cylinders_5' 'cylinders_6' 'cylinders_8'\n",
      " 'cylinders_10' 'title_status_clean' 'title_status_lien'\n",
      " 'title_status_missing' 'title_status_rebuilt' 'title_status_salvage'\n",
      " 'transmission_automatic' 'transmission_manual' 'transmission_other'\n",
      " 'drive_4wd' 'drive_fwd' 'drive_rwd' 'drive_nan' 'size_compact'\n",
      " 'size_full-size' 'size_mid-size' 'size_sub-compact' 'size_nan']\n"
     ]
    }
   ],
   "source": [
    "from sklearn.preprocessing import OneHotEncoder\n",
    "\n",
    "one_hot_encoder = OneHotEncoder()\n",
    "# 'учим' и сразу применяем преобразование к выборке, результат переводим в массив\n",
    "data_onehot = one_hot_encoder.fit_transform(data[columns_to_change]).toarray()\n",
    "# Запишем название новых колонок в новую переменную\n",
    "column_names = one_hot_encoder.get_feature_names_out(columns_to_change)\n",
    "print(column_names)"
   ]
  },
  {
   "cell_type": "code",
   "execution_count": 16,
   "id": "a584f214",
   "metadata": {},
   "outputs": [
    {
     "data": {
      "text/plain": [
       "(7017, 30)"
      ]
     },
     "metadata": {},
     "output_type": "display_data"
    }
   ],
   "source": [
    "# Задание 3.7\n",
    "data_onehot = pd.DataFrame(data=data_onehot, index=data.index, columns=column_names)\n",
    "\n",
    "data_new = pd.concat([data, data_onehot], axis=1)\n",
    "data_new = data_new.drop(columns=columns_to_change)\n",
    "display(data_new.shape)"
   ]
  },
  {
   "cell_type": "markdown",
   "id": "93fa765e",
   "metadata": {},
   "source": [
    "### <center>4.Обработка пропусков и выбросов<center>"
   ]
  }
 ],
 "metadata": {
  "kernelspec": {
   "display_name": "Python 3",
   "language": "python",
   "name": "python3"
  },
  "language_info": {
   "codemirror_mode": {
    "name": "ipython",
    "version": 3
   },
   "file_extension": ".py",
   "mimetype": "text/x-python",
   "name": "python",
   "nbconvert_exporter": "python",
   "pygments_lexer": "ipython3",
   "version": "3.9.10"
  }
 },
 "nbformat": 4,
 "nbformat_minor": 5
}
