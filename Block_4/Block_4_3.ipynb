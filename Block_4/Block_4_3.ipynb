{
 "cells": [
  {
   "cell_type": "markdown",
   "id": "72b4fcd9",
   "metadata": {},
   "source": [
    "# <center>Блок 4. Введение в машинное обучение<center>\n",
    "## <center>ML-3. Обучение с учителем: классификация<center>\n",
    "### <center>1.Введение<center>\n",
    "### <center>2.Логистическая регрессия<center>\n",
    "#### <center>Общее представление о логистической регрессии<center>"
   ]
  },
  {
   "cell_type": "code",
   "execution_count": 17,
   "id": "87f5cc9e",
   "metadata": {},
   "outputs": [
    {
     "name": "stdout",
     "output_type": "stream",
     "text": [
      "0.83\n"
     ]
    }
   ],
   "source": [
    "# Задание 2.5\n",
    "z = 1 + 5*0.3 - 0.3*3\n",
    "p = 1 / (1+2.718**-z)\n",
    "print(round(p,2))"
   ]
  },
  {
   "cell_type": "markdown",
   "id": "5583fbd3",
   "metadata": {},
   "source": [
    "#### <center>Поиск параметров логистической регрессии<center>"
   ]
  }
 ],
 "metadata": {
  "kernelspec": {
   "display_name": "Python 3",
   "language": "python",
   "name": "python3"
  },
  "language_info": {
   "codemirror_mode": {
    "name": "ipython",
    "version": 3
   },
   "file_extension": ".py",
   "mimetype": "text/x-python",
   "name": "python",
   "nbconvert_exporter": "python",
   "pygments_lexer": "ipython3",
   "version": "3.9.10"
  }
 },
 "nbformat": 4,
 "nbformat_minor": 5
}
