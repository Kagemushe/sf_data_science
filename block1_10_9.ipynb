{
 "cells": [
  {
   "cell_type": "code",
   "execution_count": 62,
   "metadata": {},
   "outputs": [
    {
     "name": "stdout",
     "output_type": "stream",
     "text": [
      "6\n"
     ]
    }
   ],
   "source": [
    "import pandas as pd \n",
    "\n",
    "student_data = pd.read_csv('C:/IDE/data/students_performance.csv', sep=',')\n",
    "#display(student_data)\n",
    "#print(student_data.iloc[155])\n",
    "#student_data.describe(include=['object']).shape[1]\n",
    "#student_data.info()\n",
    "#round(student_data['math score'].mean())\n",
    "#student_data['race/ethnicity'].mode()\n",
    "\n",
    "#round(student_data[student_data['test preparation course'] == 'completed']['reading score'].mean())\n",
    "#student_data[student_data['math score'] == 0].shape[0]\n",
    "#student_data[student_data['lunch'] == 'standard']['math score'].mean()\n",
    "#student_data[student_data['lunch'] == 'free/reduced']['math score'].mean()\n",
    "\n",
    "#student_data['parental level of education'].value_counts(normalize=True)\n",
    "\n",
    "writing_score_median = student_data[student_data['race/ethnicity'] == 'group A']['writing score'].median()\n",
    "writing_score_mean = student_data[student_data['race/ethnicity'] == 'group C']['writing score'].mean()\n",
    "print(round(abs(writing_score_median - writing_score_mean)))\n"
   ]
  },
  {
   "cell_type": "markdown",
   "metadata": {},
   "source": [
    "gender — пол;\n",
    "race/ethnicity — раса/этническая принадлежность;\n",
    "parental level of education — уровень образования родителей;\n",
    "lunch — какие обеды получал студент во время обучения (standard — платный, free/reduced — бесплатный);\n",
    "test preparation course — посещал ли студент курсы подготовки к экзаменам (none — не посещал, completed — посещал);\n",
    "math score, reading score, writing score — баллы по математике, чтению и письму по сто балльной шкале."
   ]
  }
 ],
 "metadata": {
  "kernelspec": {
   "display_name": "Python 3",
   "language": "python",
   "name": "python3"
  },
  "language_info": {
   "codemirror_mode": {
    "name": "ipython",
    "version": 3
   },
   "file_extension": ".py",
   "mimetype": "text/x-python",
   "name": "python",
   "nbconvert_exporter": "python",
   "pygments_lexer": "ipython3",
   "version": "3.9.10"
  }
 },
 "nbformat": 4,
 "nbformat_minor": 2
}
