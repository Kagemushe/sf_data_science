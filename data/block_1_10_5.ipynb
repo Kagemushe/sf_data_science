{
 "cells": [
  {
   "cell_type": "code",
   "execution_count": 43,
   "metadata": {},
   "outputs": [
    {
     "data": {
      "text/plain": [
       "0    Northern Metropolitan\n",
       "Name: Regionname, dtype: object"
      ]
     },
     "execution_count": 43,
     "metadata": {},
     "output_type": "execute_result"
    }
   ],
   "source": [
    "import pandas as pd \n",
    "import numpy as np \n",
    "\n",
    "\n",
    "melb_data = pd.read_csv('C:/IDE/data/melb_data.csv', sep=',')\n",
    "#data_pd_object = melb_data.iloc[90]\n",
    "#data_pd_object_1 = melb_data.iloc[3521]\n",
    "#data_pd_object_2 = melb_data.iloc[1690]\n",
    "#print(data_pd_object_1.loc['Landsize']/data_pd_object_2.loc['Landsize'])\n",
    "melb_data['Car'] = melb_data['Car'].astype('int64')\n",
    "melb_data['Bedroom'] = melb_data['Bedroom'].astype('int64')\n",
    "melb_data['Bathroom'] = melb_data['Bathroom'].astype('int64')\n",
    "melb_data['Propertycount'] = melb_data['Propertycount'].astype('int64')\n",
    "melb_data['YearBuilt'] = melb_data['YearBuilt'].astype('int64')\n",
    "#melb_data['Type'].value_counts(normalize=True)\n",
    "#melb_data.info()\n",
    "#melb_data.describe().loc[:, ['Distance', 'BuildingArea', 'Price']]\n",
    "#melb_data.describe(include=['object'])\n",
    "#print(melb_data['Price'].mean())\n",
    "#print(melb_data['Car'].max())\n",
    "#display(melb_data)\n",
    "\n",
    "#rate = 0.12\n",
    "#income = melb_data['Price'].sum()*rate\n",
    "#print('Total income of real estate agencies:', round(income, 2))\n",
    "\n",
    "#landsize_median = melb_data['Landsize'].median()\n",
    "#landsize_mean = melb_data['Landsize'].mean()\n",
    "#print(abs(landsize_median-landsize_mean)/landsize_mean)\n",
    "\n",
    "#print(melb_data['Rooms'].mode())\n",
    "#print(melb_data['Propertycount'].max())\n",
    "#print(melb_data['Distance'].std())\n",
    "#square_median = melb_data['BuildingArea'].median()\n",
    "#square_mean = melb_data['BuildingArea'].mean()\n",
    "#print(abs((square_median-square_mean)/square_mean)*100)\n",
    "#print(melb_data['Bedroom'].mode())\n",
    "\n",
    "#mask = melb_data['Price'] > 2000000\n",
    "#melb_data[melb_data['Rooms'] == 3].shape[0]\n",
    "#melb_data[(melb_data['Rooms'] == 3) & (melb_data['Price'] < 300000)].shape[0]\n",
    "#melb_data[((melb_data['Rooms'] == 3) | (melb_data['BuildingArea'] > 100)) & (melb_data['Price'] < 300000)].shape[0]\n",
    "#melb_data[melb_data['Type'] == 't']['Rooms'].max()\n",
    "#mean_price = melb_data['Price'].mean()\n",
    "#melb_data[melb_data['Price'] > mean_price]['BuildingArea'].median()\n",
    "#melb_data[melb_data['Bathroom'] == 0].shape[0]\n",
    "#melb_data[(melb_data['SellerG'] == 'Nelson') & (melb_data['Price'] > 3000000)].shape[0]\n",
    "#melb_data[melb_data['BuildingArea'] == 0]['Price'].min()\n",
    "#melb_data[((melb_data['Rooms'] > 5) | (melb_data['YearBuilt'] > 2015)) & (melb_data['Price'] < 1000000)]['Price'].mean()\n",
    "melb_data[(melb_data['Type'] == 'h') & (melb_data['Price'] < 3000000)]['Regionname'].mode()\n"
   ]
  },
  {
   "cell_type": "code",
   "execution_count": 17,
   "metadata": {},
   "outputs": [
    {
     "name": "stdout",
     "output_type": "stream",
     "text": [
      "(3, 2)\n"
     ]
    }
   ],
   "source": [
    "data = pd.DataFrame([[0,1], [1, 0], [1, 1]], columns=['А', 'B'])\n",
    "print(data.shape)"
   ]
  }
 ],
 "metadata": {
  "kernelspec": {
   "display_name": "Python 3",
   "language": "python",
   "name": "python3"
  },
  "language_info": {
   "codemirror_mode": {
    "name": "ipython",
    "version": 3
   },
   "file_extension": ".py",
   "mimetype": "text/x-python",
   "name": "python",
   "nbconvert_exporter": "python",
   "pygments_lexer": "ipython3",
   "version": "3.9.10"
  }
 },
 "nbformat": 4,
 "nbformat_minor": 2
}
