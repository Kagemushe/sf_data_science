{
  "cells": [
    {
      "cell_type": "markdown",
      "id": "42289889-bd57-434e-9637-d3e354756316",
      "metadata": {
        "id": "42289889-bd57-434e-9637-d3e354756316"
      },
      "source": [
        "<center> <img src = https://raw.githubusercontent.com/AndreyRysistov/DatasetsForPandas/main/hh%20label.jpg alt=\"drawing\" style=\"width:400px;\">"
      ]
    },
    {
      "cell_type": "markdown",
      "id": "829cb75b-f14e-4ba8-9195-7ba929a7d656",
      "metadata": {
        "id": "829cb75b-f14e-4ba8-9195-7ba929a7d656",
        "tags": []
      },
      "source": [
        "# <center> Проект: Анализ вакансий из HeadHunter\n",
        "   "
      ]
    },
    {
      "cell_type": "code",
      "execution_count": 1,
      "id": "dccfde33-2452-43fb-a8a5-5c6ebc02a71d",
      "metadata": {
        "id": "dccfde33-2452-43fb-a8a5-5c6ebc02a71d"
      },
      "outputs": [],
      "source": [
        "import pandas as pd\n",
        "import psycopg2\n",
        "import matplotlib.pyplot as plt\n",
        "import seaborn as sns "
      ]
    },
    {
      "cell_type": "code",
      "execution_count": 2,
      "id": "oVKH4ehvf8Ay",
      "metadata": {
        "id": "oVKH4ehvf8Ay"
      },
      "outputs": [],
      "source": [
        "# вставьте сюда параметры подключения из юнита 1. Работа с базой данных из Python \n"
      ]
    },
    {
      "cell_type": "code",
      "execution_count": 3,
      "id": "G4X_q8KBf7SF",
      "metadata": {
        "id": "G4X_q8KBf7SF"
      },
      "outputs": [],
      "source": [
        "connection = psycopg2.connect(\n",
        "    dbname=DBNAME,\n",
        "    user=USER,\n",
        "    host=HOST,\n",
        "    password=PASSWORD,\n",
        "    port=PORT\n",
        ")"
      ]
    },
    {
      "cell_type": "markdown",
      "id": "0dc6476b-7a00-44f1-ac93-6e3baed33a29",
      "metadata": {
        "id": "0dc6476b-7a00-44f1-ac93-6e3baed33a29"
      },
      "source": [
        "# Юнит 3. Предварительный анализ данных"
      ]
    },
    {
      "cell_type": "markdown",
      "id": "889782b6-8d1c-410e-8920-e57f27917c64",
      "metadata": {
        "id": "889782b6-8d1c-410e-8920-e57f27917c64"
      },
      "source": [
        "1. Напишите запрос, который посчитает количество вакансий в нашей базе (вакансии находятся в таблице vacancies). "
      ]
    },
    {
      "cell_type": "code",
      "execution_count": 4,
      "id": "bc39e68e-ed02-4ee2-9235-7258a2f867a8",
      "metadata": {
        "id": "bc39e68e-ed02-4ee2-9235-7258a2f867a8"
      },
      "outputs": [],
      "source": [
        "# текст запроса\n",
        "query_3_1 = f'''select\n",
        "                count(id)   /* Считаем количество вакансий по индивидуальным id */\n",
        "                from public.vacancies\n",
        "'''"
      ]
    },
    {
      "cell_type": "code",
      "execution_count": 5,
      "id": "7mAwtsk4hEHY",
      "metadata": {
        "id": "7mAwtsk4hEHY"
      },
      "outputs": [
        {
          "name": "stderr",
          "output_type": "stream",
          "text": [
            "C:\\Users\\Smoking Shop\\AppData\\Local\\Temp\\ipykernel_6800\\3467169053.py:2: UserWarning: pandas only supports SQLAlchemy connectable (engine/connection) or database string URI or sqlite3 DBAPI2 connection. Other DBAPI2 objects are not tested. Please consider using SQLAlchemy.\n",
            "  vacancies_count = pd.read_sql_query(query_3_1, connection)\n"
          ]
        },
        {
          "data": {
            "text/html": [
              "<div>\n",
              "<style scoped>\n",
              "    .dataframe tbody tr th:only-of-type {\n",
              "        vertical-align: middle;\n",
              "    }\n",
              "\n",
              "    .dataframe tbody tr th {\n",
              "        vertical-align: top;\n",
              "    }\n",
              "\n",
              "    .dataframe thead th {\n",
              "        text-align: right;\n",
              "    }\n",
              "</style>\n",
              "<table border=\"1\" class=\"dataframe\">\n",
              "  <thead>\n",
              "    <tr style=\"text-align: right;\">\n",
              "      <th></th>\n",
              "      <th>count</th>\n",
              "    </tr>\n",
              "  </thead>\n",
              "  <tbody>\n",
              "    <tr>\n",
              "      <th>0</th>\n",
              "      <td>49197</td>\n",
              "    </tr>\n",
              "  </tbody>\n",
              "</table>\n",
              "</div>"
            ],
            "text/plain": [
              "   count\n",
              "0  49197"
            ]
          },
          "execution_count": 5,
          "metadata": {},
          "output_type": "execute_result"
        }
      ],
      "source": [
        "# результат запроса\n",
        "vacancies_count = pd.read_sql_query(query_3_1, connection)\n",
        "vacancies_count"
      ]
    },
    {
      "cell_type": "markdown",
      "id": "b583485d-1f9e-494e-ada4-80ffff7c53d6",
      "metadata": {
        "id": "b583485d-1f9e-494e-ada4-80ffff7c53d6"
      },
      "source": [
        "2. Напишите запрос, который посчитает количество работодателей (таблица employers). "
      ]
    },
    {
      "cell_type": "code",
      "execution_count": 6,
      "id": "5408c52c-3407-4a63-b25b-1aafa2322d28",
      "metadata": {
        "id": "5408c52c-3407-4a63-b25b-1aafa2322d28"
      },
      "outputs": [],
      "source": [
        "# текст запроса\n",
        "query_3_2 = f'''select\n",
        "                   count(id)   /* Считаем количество работодателей по индивидуальным id */\n",
        "                from public.employers\n",
        "'''                   "
      ]
    },
    {
      "cell_type": "code",
      "execution_count": 7,
      "id": "jVL4eshKhdqc",
      "metadata": {
        "id": "jVL4eshKhdqc"
      },
      "outputs": [
        {
          "name": "stderr",
          "output_type": "stream",
          "text": [
            "C:\\Users\\Smoking Shop\\AppData\\Local\\Temp\\ipykernel_6800\\133946897.py:2: UserWarning: pandas only supports SQLAlchemy connectable (engine/connection) or database string URI or sqlite3 DBAPI2 connection. Other DBAPI2 objects are not tested. Please consider using SQLAlchemy.\n",
            "  employers_count = pd.read_sql_query(query_3_2, connection)\n"
          ]
        },
        {
          "data": {
            "text/html": [
              "<div>\n",
              "<style scoped>\n",
              "    .dataframe tbody tr th:only-of-type {\n",
              "        vertical-align: middle;\n",
              "    }\n",
              "\n",
              "    .dataframe tbody tr th {\n",
              "        vertical-align: top;\n",
              "    }\n",
              "\n",
              "    .dataframe thead th {\n",
              "        text-align: right;\n",
              "    }\n",
              "</style>\n",
              "<table border=\"1\" class=\"dataframe\">\n",
              "  <thead>\n",
              "    <tr style=\"text-align: right;\">\n",
              "      <th></th>\n",
              "      <th>count</th>\n",
              "    </tr>\n",
              "  </thead>\n",
              "  <tbody>\n",
              "    <tr>\n",
              "      <th>0</th>\n",
              "      <td>23501</td>\n",
              "    </tr>\n",
              "  </tbody>\n",
              "</table>\n",
              "</div>"
            ],
            "text/plain": [
              "   count\n",
              "0  23501"
            ]
          },
          "execution_count": 7,
          "metadata": {},
          "output_type": "execute_result"
        }
      ],
      "source": [
        "# результат запроса\n",
        "employers_count = pd.read_sql_query(query_3_2, connection)\n",
        "employers_count"
      ]
    },
    {
      "cell_type": "markdown",
      "id": "a2bfff1f-c975-4bf6-84be-2185d79dcb76",
      "metadata": {
        "id": "a2bfff1f-c975-4bf6-84be-2185d79dcb76"
      },
      "source": [
        "3. Посчитате с помощью запроса количество регионов (таблица areas)."
      ]
    },
    {
      "cell_type": "code",
      "execution_count": 8,
      "id": "1m8QJwBYhey6",
      "metadata": {
        "id": "1m8QJwBYhey6"
      },
      "outputs": [],
      "source": [
        "# текст запроса\n",
        "query_3_3 = f'''select\n",
        "                   count(id)   /* Считаем количество регионов по индивидуальным id */\n",
        "                from public.areas\n",
        "'''                   "
      ]
    },
    {
      "cell_type": "code",
      "execution_count": 9,
      "id": "EZsn9tlfhe7f",
      "metadata": {
        "id": "EZsn9tlfhe7f"
      },
      "outputs": [
        {
          "name": "stderr",
          "output_type": "stream",
          "text": [
            "C:\\Users\\Smoking Shop\\AppData\\Local\\Temp\\ipykernel_6800\\3417668578.py:2: UserWarning: pandas only supports SQLAlchemy connectable (engine/connection) or database string URI or sqlite3 DBAPI2 connection. Other DBAPI2 objects are not tested. Please consider using SQLAlchemy.\n",
            "  areas_count = pd.read_sql_query(query_3_3, connection)\n"
          ]
        },
        {
          "data": {
            "text/html": [
              "<div>\n",
              "<style scoped>\n",
              "    .dataframe tbody tr th:only-of-type {\n",
              "        vertical-align: middle;\n",
              "    }\n",
              "\n",
              "    .dataframe tbody tr th {\n",
              "        vertical-align: top;\n",
              "    }\n",
              "\n",
              "    .dataframe thead th {\n",
              "        text-align: right;\n",
              "    }\n",
              "</style>\n",
              "<table border=\"1\" class=\"dataframe\">\n",
              "  <thead>\n",
              "    <tr style=\"text-align: right;\">\n",
              "      <th></th>\n",
              "      <th>count</th>\n",
              "    </tr>\n",
              "  </thead>\n",
              "  <tbody>\n",
              "    <tr>\n",
              "      <th>0</th>\n",
              "      <td>1362</td>\n",
              "    </tr>\n",
              "  </tbody>\n",
              "</table>\n",
              "</div>"
            ],
            "text/plain": [
              "   count\n",
              "0   1362"
            ]
          },
          "execution_count": 9,
          "metadata": {},
          "output_type": "execute_result"
        }
      ],
      "source": [
        "# результат запроса\n",
        "areas_count = pd.read_sql_query(query_3_3, connection)\n",
        "areas_count"
      ]
    },
    {
      "cell_type": "markdown",
      "id": "41bb59f3-53cc-4a67-a5bc-bedf573955e4",
      "metadata": {
        "id": "41bb59f3-53cc-4a67-a5bc-bedf573955e4"
      },
      "source": [
        "4. Посчитате с помощью запроса количество сфер деятельности в базе (таблица industries)."
      ]
    },
    {
      "cell_type": "code",
      "execution_count": 10,
      "id": "d286cf4c-707b-4cd2-9190-7ab3587d04a1",
      "metadata": {
        "id": "d286cf4c-707b-4cd2-9190-7ab3587d04a1"
      },
      "outputs": [],
      "source": [
        "# текст запроса\n",
        "query_3_4 = f'''select \n",
        "                   count(id)   /* Считаем количество сфер деятельности по индивидуальным id */\n",
        "                from public.industries\n",
        "'''                   "
      ]
    },
    {
      "cell_type": "code",
      "execution_count": 11,
      "id": "JYAaoZ4qhfzW",
      "metadata": {
        "id": "JYAaoZ4qhfzW"
      },
      "outputs": [
        {
          "name": "stderr",
          "output_type": "stream",
          "text": [
            "C:\\Users\\Smoking Shop\\AppData\\Local\\Temp\\ipykernel_6800\\1238563480.py:2: UserWarning: pandas only supports SQLAlchemy connectable (engine/connection) or database string URI or sqlite3 DBAPI2 connection. Other DBAPI2 objects are not tested. Please consider using SQLAlchemy.\n",
            "  industries_count = pd.read_sql_query(query_3_4, connection)\n"
          ]
        },
        {
          "data": {
            "text/html": [
              "<div>\n",
              "<style scoped>\n",
              "    .dataframe tbody tr th:only-of-type {\n",
              "        vertical-align: middle;\n",
              "    }\n",
              "\n",
              "    .dataframe tbody tr th {\n",
              "        vertical-align: top;\n",
              "    }\n",
              "\n",
              "    .dataframe thead th {\n",
              "        text-align: right;\n",
              "    }\n",
              "</style>\n",
              "<table border=\"1\" class=\"dataframe\">\n",
              "  <thead>\n",
              "    <tr style=\"text-align: right;\">\n",
              "      <th></th>\n",
              "      <th>count</th>\n",
              "    </tr>\n",
              "  </thead>\n",
              "  <tbody>\n",
              "    <tr>\n",
              "      <th>0</th>\n",
              "      <td>294</td>\n",
              "    </tr>\n",
              "  </tbody>\n",
              "</table>\n",
              "</div>"
            ],
            "text/plain": [
              "   count\n",
              "0    294"
            ]
          },
          "execution_count": 11,
          "metadata": {},
          "output_type": "execute_result"
        }
      ],
      "source": [
        "# результат запроса\n",
        "industries_count = pd.read_sql_query(query_3_4, connection)\n",
        "industries_count"
      ]
    },
    {
      "cell_type": "markdown",
      "id": "9a8a2181-6914-448b-85f1-38f5f18b8a93",
      "metadata": {
        "id": "9a8a2181-6914-448b-85f1-38f5f18b8a93"
      },
      "source": [
        "***"
      ]
    },
    {
      "cell_type": "code",
      "execution_count": 12,
      "id": "be4e9bd3-a4db-4a20-82fb-6b02fc2957e0",
      "metadata": {
        "id": "be4e9bd3-a4db-4a20-82fb-6b02fc2957e0"
      },
      "outputs": [],
      "source": [
        "# выводы по предварительному анализу данных"
      ]
    },
    {
      "cell_type": "markdown",
      "id": "3a9fa2f8",
      "metadata": {},
      "source": [
        "**Выводы:**\n",
        "Наблюдается растущая необходимость и популярность в специалистах из IT-областей. Об этом свидетельствует:\n",
        "* 1. Количество вакансий более чем в два раза превышает количество работодателей. Значит у некоторых работодателей\n",
        "     имеется несколько открытых вакансий на специалистов.\n",
        "* 2. Большое количество регионов, в которые требуются IT-специалисты. Это говорит о широкой географической востребованности в этой области.\n",
        "* 3. Почти 300 сфер областей нуждаются в IT-специалистах.     "
      ]
    },
    {
      "cell_type": "markdown",
      "id": "8d62a9f3-f64e-4fe7-bdac-c4dffa16155e",
      "metadata": {
        "id": "8d62a9f3-f64e-4fe7-bdac-c4dffa16155e"
      },
      "source": [
        "# Юнит 4. Детальный анализ вакансий"
      ]
    },
    {
      "cell_type": "markdown",
      "id": "93053d3d-b284-481a-9cf7-012d7014c0e0",
      "metadata": {
        "id": "93053d3d-b284-481a-9cf7-012d7014c0e0"
      },
      "source": [
        "1. Напишите запрос, который позволит узнать, сколько (cnt) вакансий в каждом регионе (area).\n",
        "Отсортируйте по количеству вакансий в порядке убывания."
      ]
    },
    {
      "cell_type": "code",
      "execution_count": 13,
      "id": "3f069da6-fdc9-4ae7-b514-fafe2675efd3",
      "metadata": {
        "id": "3f069da6-fdc9-4ae7-b514-fafe2675efd3"
      },
      "outputs": [],
      "source": [
        "# текст запроса\n",
        "query_4_1 = f'''select \n",
        "                   a.name area,   /* Выводим столбец таблицы а с алиасом area */\n",
        "                   count(v.id) cnt   /* Выводим толбец с количетвом вакансий для каждого региона с алиасом cnt */\n",
        "                from public.areas a   /* Начальнй таблице areas присваеваем алиас а */\n",
        "                join public.vacancies v on a.id = v.area_id  /* Присоединяем таблицу вакансий с алиасом v по id регионов */\n",
        "                group by area   /* Группируем по регионам */\n",
        "                order by cnt desc   /* Упорядочеваем по каличеству вакансий в порядке убывания */\n",
        "'''                   "
      ]
    },
    {
      "cell_type": "code",
      "execution_count": 14,
      "id": "P7QL86hrjhRJ",
      "metadata": {
        "id": "P7QL86hrjhRJ"
      },
      "outputs": [
        {
          "name": "stderr",
          "output_type": "stream",
          "text": [
            "C:\\Users\\Smoking Shop\\AppData\\Local\\Temp\\ipykernel_6800\\2312453855.py:2: UserWarning: pandas only supports SQLAlchemy connectable (engine/connection) or database string URI or sqlite3 DBAPI2 connection. Other DBAPI2 objects are not tested. Please consider using SQLAlchemy.\n",
            "  cnt_by_area = pd.read_sql_query(query_4_1, connection)\n"
          ]
        },
        {
          "data": {
            "text/html": [
              "<div>\n",
              "<style scoped>\n",
              "    .dataframe tbody tr th:only-of-type {\n",
              "        vertical-align: middle;\n",
              "    }\n",
              "\n",
              "    .dataframe tbody tr th {\n",
              "        vertical-align: top;\n",
              "    }\n",
              "\n",
              "    .dataframe thead th {\n",
              "        text-align: right;\n",
              "    }\n",
              "</style>\n",
              "<table border=\"1\" class=\"dataframe\">\n",
              "  <thead>\n",
              "    <tr style=\"text-align: right;\">\n",
              "      <th></th>\n",
              "      <th>area</th>\n",
              "      <th>cnt</th>\n",
              "    </tr>\n",
              "  </thead>\n",
              "  <tbody>\n",
              "    <tr>\n",
              "      <th>0</th>\n",
              "      <td>Москва</td>\n",
              "      <td>5333</td>\n",
              "    </tr>\n",
              "    <tr>\n",
              "      <th>1</th>\n",
              "      <td>Санкт-Петербург</td>\n",
              "      <td>2851</td>\n",
              "    </tr>\n",
              "    <tr>\n",
              "      <th>2</th>\n",
              "      <td>Минск</td>\n",
              "      <td>2112</td>\n",
              "    </tr>\n",
              "    <tr>\n",
              "      <th>3</th>\n",
              "      <td>Новосибирск</td>\n",
              "      <td>2006</td>\n",
              "    </tr>\n",
              "    <tr>\n",
              "      <th>4</th>\n",
              "      <td>Алматы</td>\n",
              "      <td>1892</td>\n",
              "    </tr>\n",
              "    <tr>\n",
              "      <th>...</th>\n",
              "      <td>...</td>\n",
              "      <td>...</td>\n",
              "    </tr>\n",
              "    <tr>\n",
              "      <th>764</th>\n",
              "      <td>Тарко-Сале</td>\n",
              "      <td>1</td>\n",
              "    </tr>\n",
              "    <tr>\n",
              "      <th>765</th>\n",
              "      <td>Новоаннинский</td>\n",
              "      <td>1</td>\n",
              "    </tr>\n",
              "    <tr>\n",
              "      <th>766</th>\n",
              "      <td>Бирск</td>\n",
              "      <td>1</td>\n",
              "    </tr>\n",
              "    <tr>\n",
              "      <th>767</th>\n",
              "      <td>Сасово</td>\n",
              "      <td>1</td>\n",
              "    </tr>\n",
              "    <tr>\n",
              "      <th>768</th>\n",
              "      <td>Анна</td>\n",
              "      <td>1</td>\n",
              "    </tr>\n",
              "  </tbody>\n",
              "</table>\n",
              "<p>769 rows × 2 columns</p>\n",
              "</div>"
            ],
            "text/plain": [
              "                area   cnt\n",
              "0             Москва  5333\n",
              "1    Санкт-Петербург  2851\n",
              "2              Минск  2112\n",
              "3        Новосибирск  2006\n",
              "4             Алматы  1892\n",
              "..               ...   ...\n",
              "764       Тарко-Сале     1\n",
              "765    Новоаннинский     1\n",
              "766            Бирск     1\n",
              "767           Сасово     1\n",
              "768             Анна     1\n",
              "\n",
              "[769 rows x 2 columns]"
            ]
          },
          "execution_count": 14,
          "metadata": {},
          "output_type": "execute_result"
        }
      ],
      "source": [
        "# результат запроса\n",
        "cnt_by_area = pd.read_sql_query(query_4_1, connection)\n",
        "cnt_by_area"
      ]
    },
    {
      "cell_type": "markdown",
      "id": "4266f0b6-1646-492a-88b4-2f6a46502135",
      "metadata": {
        "id": "4266f0b6-1646-492a-88b4-2f6a46502135"
      },
      "source": [
        "2. Напишите запрос, чтобы определить у какого количества вакансий заполнено хотя бы одно из двух полей с зарплатой."
      ]
    },
    {
      "cell_type": "code",
      "execution_count": 15,
      "id": "0c44b350-72eb-4d65-8b54-a1fc449ba9fd",
      "metadata": {
        "id": "0c44b350-72eb-4d65-8b54-a1fc449ba9fd"
      },
      "outputs": [],
      "source": [
        "# текст запроса\n",
        "query_4_2 = f'''select \n",
        "                   count(id) cnt   /* Считаем кол-во вакансий по id, присваиваем алиас cnt */\n",
        "                from public.vacancies \n",
        "                   /* Добавляем условия, что хотябы один столбец с указанной зп не является пустым */\n",
        "                where salary_from is not null or salary_to is not null\n",
        "'''                   "
      ]
    },
    {
      "cell_type": "code",
      "execution_count": 16,
      "id": "rhvwaMDkoWTi",
      "metadata": {
        "id": "rhvwaMDkoWTi"
      },
      "outputs": [
        {
          "name": "stderr",
          "output_type": "stream",
          "text": [
            "C:\\Users\\Smoking Shop\\AppData\\Local\\Temp\\ipykernel_6800\\3238036412.py:2: UserWarning: pandas only supports SQLAlchemy connectable (engine/connection) or database string URI or sqlite3 DBAPI2 connection. Other DBAPI2 objects are not tested. Please consider using SQLAlchemy.\n",
            "  filled_salary = pd.read_sql_query(query_4_2, connection)\n"
          ]
        },
        {
          "data": {
            "text/html": [
              "<div>\n",
              "<style scoped>\n",
              "    .dataframe tbody tr th:only-of-type {\n",
              "        vertical-align: middle;\n",
              "    }\n",
              "\n",
              "    .dataframe tbody tr th {\n",
              "        vertical-align: top;\n",
              "    }\n",
              "\n",
              "    .dataframe thead th {\n",
              "        text-align: right;\n",
              "    }\n",
              "</style>\n",
              "<table border=\"1\" class=\"dataframe\">\n",
              "  <thead>\n",
              "    <tr style=\"text-align: right;\">\n",
              "      <th></th>\n",
              "      <th>cnt</th>\n",
              "    </tr>\n",
              "  </thead>\n",
              "  <tbody>\n",
              "    <tr>\n",
              "      <th>0</th>\n",
              "      <td>24073</td>\n",
              "    </tr>\n",
              "  </tbody>\n",
              "</table>\n",
              "</div>"
            ],
            "text/plain": [
              "     cnt\n",
              "0  24073"
            ]
          },
          "execution_count": 16,
          "metadata": {},
          "output_type": "execute_result"
        }
      ],
      "source": [
        "# результат запроса\n",
        "filled_salary = pd.read_sql_query(query_4_2, connection)\n",
        "filled_salary"
      ]
    },
    {
      "cell_type": "markdown",
      "id": "635c4d5d-f323-4c66-b428-50a088120aa0",
      "metadata": {
        "id": "635c4d5d-f323-4c66-b428-50a088120aa0"
      },
      "source": [
        "3. Найдите средние значения для нижней и верхней границы зарплатной вилки. Округлите значения до целого."
      ]
    },
    {
      "cell_type": "code",
      "execution_count": 17,
      "id": "603cdbe4-0ec3-4106-8eaf-c73fcdd29165",
      "metadata": {
        "id": "603cdbe4-0ec3-4106-8eaf-c73fcdd29165"
      },
      "outputs": [],
      "source": [
        "# текст запроса\n",
        "query_4_3 = f'''select\n",
        "                   round(avg(salary_from),0) avg_from,   /* Находим среднее значение начальной зп, алиас avg_from */\n",
        "                   round(avg(salary_to),0) avg_to   /* Находим среднее значение предельного значения зп, алиас avg_to */\n",
        "                from public.vacancies \n",
        "'''                   "
      ]
    },
    {
      "cell_type": "code",
      "execution_count": 18,
      "id": "pswpAb66ovZZ",
      "metadata": {
        "id": "pswpAb66ovZZ"
      },
      "outputs": [
        {
          "name": "stderr",
          "output_type": "stream",
          "text": [
            "C:\\Users\\Smoking Shop\\AppData\\Local\\Temp\\ipykernel_6800\\212845365.py:2: UserWarning: pandas only supports SQLAlchemy connectable (engine/connection) or database string URI or sqlite3 DBAPI2 connection. Other DBAPI2 objects are not tested. Please consider using SQLAlchemy.\n",
            "  avg_salary = pd.read_sql_query(query_4_3, connection)\n"
          ]
        },
        {
          "data": {
            "text/html": [
              "<div>\n",
              "<style scoped>\n",
              "    .dataframe tbody tr th:only-of-type {\n",
              "        vertical-align: middle;\n",
              "    }\n",
              "\n",
              "    .dataframe tbody tr th {\n",
              "        vertical-align: top;\n",
              "    }\n",
              "\n",
              "    .dataframe thead th {\n",
              "        text-align: right;\n",
              "    }\n",
              "</style>\n",
              "<table border=\"1\" class=\"dataframe\">\n",
              "  <thead>\n",
              "    <tr style=\"text-align: right;\">\n",
              "      <th></th>\n",
              "      <th>avg_from</th>\n",
              "      <th>avg_to</th>\n",
              "    </tr>\n",
              "  </thead>\n",
              "  <tbody>\n",
              "    <tr>\n",
              "      <th>0</th>\n",
              "      <td>71065.0</td>\n",
              "      <td>110537.0</td>\n",
              "    </tr>\n",
              "  </tbody>\n",
              "</table>\n",
              "</div>"
            ],
            "text/plain": [
              "   avg_from    avg_to\n",
              "0   71065.0  110537.0"
            ]
          },
          "execution_count": 18,
          "metadata": {},
          "output_type": "execute_result"
        }
      ],
      "source": [
        "# результат запроса\n",
        "avg_salary = pd.read_sql_query(query_4_3, connection)\n",
        "avg_salary"
      ]
    },
    {
      "cell_type": "markdown",
      "id": "f3fdaec9-5fd3-4260-9cf5-1d7406b628a5",
      "metadata": {
        "id": "f3fdaec9-5fd3-4260-9cf5-1d7406b628a5"
      },
      "source": [
        "4. Напишите запрос, который выведет количество вакансий для каждого сочетания типа рабочего графика (schedule) и типа трудоустройства (employment), используемого в вакансиях. Результат отсортируйте по убыванию количества.\n"
      ]
    },
    {
      "cell_type": "code",
      "execution_count": 19,
      "id": "1ea710ec-871b-431e-9462-c7d0fd87011b",
      "metadata": {
        "id": "1ea710ec-871b-431e-9462-c7d0fd87011b"
      },
      "outputs": [],
      "source": [
        "# текст запроса\n",
        "query_4_4 = f'''select\n",
        "                   schedule,   /* Выводи столбец с типом рабочего графика */\n",
        "                   employment,   /* Выводим столбец с типом трудоустройства */\n",
        "                   count(id)   /* Столбец с количеством вакансий для каждого сочетания первых двух столцов */\n",
        "                from public.vacancies \n",
        "                group by 1, 2   /* Группируем по столбцам schedule, employment */\n",
        "                order by 3 desc   /* Сортируем по кол-ву вакансий в порядке убывания */\n",
        "'''"
      ]
    },
    {
      "cell_type": "code",
      "execution_count": 20,
      "id": "lGUVqavdo4JQ",
      "metadata": {
        "id": "lGUVqavdo4JQ"
      },
      "outputs": [
        {
          "name": "stderr",
          "output_type": "stream",
          "text": [
            "C:\\Users\\Smoking Shop\\AppData\\Local\\Temp\\ipykernel_6800\\558831535.py:2: UserWarning: pandas only supports SQLAlchemy connectable (engine/connection) or database string URI or sqlite3 DBAPI2 connection. Other DBAPI2 objects are not tested. Please consider using SQLAlchemy.\n",
            "  schedule_employment_cnt = pd.read_sql_query(query_4_4, connection)\n"
          ]
        },
        {
          "data": {
            "text/html": [
              "<div>\n",
              "<style scoped>\n",
              "    .dataframe tbody tr th:only-of-type {\n",
              "        vertical-align: middle;\n",
              "    }\n",
              "\n",
              "    .dataframe tbody tr th {\n",
              "        vertical-align: top;\n",
              "    }\n",
              "\n",
              "    .dataframe thead th {\n",
              "        text-align: right;\n",
              "    }\n",
              "</style>\n",
              "<table border=\"1\" class=\"dataframe\">\n",
              "  <thead>\n",
              "    <tr style=\"text-align: right;\">\n",
              "      <th></th>\n",
              "      <th>schedule</th>\n",
              "      <th>employment</th>\n",
              "      <th>count</th>\n",
              "    </tr>\n",
              "  </thead>\n",
              "  <tbody>\n",
              "    <tr>\n",
              "      <th>0</th>\n",
              "      <td>Полный день</td>\n",
              "      <td>Полная занятость</td>\n",
              "      <td>35367</td>\n",
              "    </tr>\n",
              "    <tr>\n",
              "      <th>1</th>\n",
              "      <td>Удаленная работа</td>\n",
              "      <td>Полная занятость</td>\n",
              "      <td>7802</td>\n",
              "    </tr>\n",
              "    <tr>\n",
              "      <th>2</th>\n",
              "      <td>Гибкий график</td>\n",
              "      <td>Полная занятость</td>\n",
              "      <td>1593</td>\n",
              "    </tr>\n",
              "    <tr>\n",
              "      <th>3</th>\n",
              "      <td>Удаленная работа</td>\n",
              "      <td>Частичная занятость</td>\n",
              "      <td>1312</td>\n",
              "    </tr>\n",
              "    <tr>\n",
              "      <th>4</th>\n",
              "      <td>Сменный график</td>\n",
              "      <td>Полная занятость</td>\n",
              "      <td>940</td>\n",
              "    </tr>\n",
              "    <tr>\n",
              "      <th>5</th>\n",
              "      <td>Полный день</td>\n",
              "      <td>Стажировка</td>\n",
              "      <td>569</td>\n",
              "    </tr>\n",
              "    <tr>\n",
              "      <th>6</th>\n",
              "      <td>Вахтовый метод</td>\n",
              "      <td>Полная занятость</td>\n",
              "      <td>367</td>\n",
              "    </tr>\n",
              "    <tr>\n",
              "      <th>7</th>\n",
              "      <td>Полный день</td>\n",
              "      <td>Частичная занятость</td>\n",
              "      <td>347</td>\n",
              "    </tr>\n",
              "    <tr>\n",
              "      <th>8</th>\n",
              "      <td>Гибкий график</td>\n",
              "      <td>Частичная занятость</td>\n",
              "      <td>312</td>\n",
              "    </tr>\n",
              "    <tr>\n",
              "      <th>9</th>\n",
              "      <td>Полный день</td>\n",
              "      <td>Проектная работа</td>\n",
              "      <td>141</td>\n",
              "    </tr>\n",
              "    <tr>\n",
              "      <th>10</th>\n",
              "      <td>Удаленная работа</td>\n",
              "      <td>Проектная работа</td>\n",
              "      <td>133</td>\n",
              "    </tr>\n",
              "    <tr>\n",
              "      <th>11</th>\n",
              "      <td>Гибкий график</td>\n",
              "      <td>Стажировка</td>\n",
              "      <td>116</td>\n",
              "    </tr>\n",
              "    <tr>\n",
              "      <th>12</th>\n",
              "      <td>Сменный график</td>\n",
              "      <td>Частичная занятость</td>\n",
              "      <td>101</td>\n",
              "    </tr>\n",
              "    <tr>\n",
              "      <th>13</th>\n",
              "      <td>Удаленная работа</td>\n",
              "      <td>Стажировка</td>\n",
              "      <td>64</td>\n",
              "    </tr>\n",
              "    <tr>\n",
              "      <th>14</th>\n",
              "      <td>Гибкий график</td>\n",
              "      <td>Проектная работа</td>\n",
              "      <td>18</td>\n",
              "    </tr>\n",
              "    <tr>\n",
              "      <th>15</th>\n",
              "      <td>Сменный график</td>\n",
              "      <td>Стажировка</td>\n",
              "      <td>12</td>\n",
              "    </tr>\n",
              "    <tr>\n",
              "      <th>16</th>\n",
              "      <td>Вахтовый метод</td>\n",
              "      <td>Проектная работа</td>\n",
              "      <td>2</td>\n",
              "    </tr>\n",
              "    <tr>\n",
              "      <th>17</th>\n",
              "      <td>Сменный график</td>\n",
              "      <td>Проектная работа</td>\n",
              "      <td>1</td>\n",
              "    </tr>\n",
              "  </tbody>\n",
              "</table>\n",
              "</div>"
            ],
            "text/plain": [
              "            schedule           employment  count\n",
              "0        Полный день     Полная занятость  35367\n",
              "1   Удаленная работа     Полная занятость   7802\n",
              "2      Гибкий график     Полная занятость   1593\n",
              "3   Удаленная работа  Частичная занятость   1312\n",
              "4     Сменный график     Полная занятость    940\n",
              "5        Полный день           Стажировка    569\n",
              "6     Вахтовый метод     Полная занятость    367\n",
              "7        Полный день  Частичная занятость    347\n",
              "8      Гибкий график  Частичная занятость    312\n",
              "9        Полный день     Проектная работа    141\n",
              "10  Удаленная работа     Проектная работа    133\n",
              "11     Гибкий график           Стажировка    116\n",
              "12    Сменный график  Частичная занятость    101\n",
              "13  Удаленная работа           Стажировка     64\n",
              "14     Гибкий график     Проектная работа     18\n",
              "15    Сменный график           Стажировка     12\n",
              "16    Вахтовый метод     Проектная работа      2\n",
              "17    Сменный график     Проектная работа      1"
            ]
          },
          "execution_count": 20,
          "metadata": {},
          "output_type": "execute_result"
        }
      ],
      "source": [
        "# результат запроса\n",
        "schedule_employment_cnt = pd.read_sql_query(query_4_4, connection)\n",
        "schedule_employment_cnt"
      ]
    },
    {
      "cell_type": "markdown",
      "id": "0136ffee-0ead-4a6b-b608-61d1c753a438",
      "metadata": {
        "id": "0136ffee-0ead-4a6b-b608-61d1c753a438"
      },
      "source": [
        "5. Напишите запрос, выводящий значения поля Требуемый опыт работы (experience) в порядке возрастания количества вакансий, в которых указан данный вариант опыта. "
      ]
    },
    {
      "cell_type": "code",
      "execution_count": 21,
      "id": "5b3a8e79-f7ab-4008-b767-12aea3a205ea",
      "metadata": {
        "id": "5b3a8e79-f7ab-4008-b767-12aea3a205ea"
      },
      "outputs": [],
      "source": [
        "# текст запроса\n",
        "query_4_5 = f'''select\n",
        "                   experience,   /* Выводим столбец с требуемым опытом работы */\n",
        "                   count(id)   /* Считаем количетво вакансий для каждого значения опыта работы */\n",
        "                from public.vacancies\n",
        "                group by 1   /* Группируем по столбцу experience */\n",
        "                order by 2   /* Сортируем по кол-ву вакансий в порядке возрастания */\n",
        "'''"
      ]
    },
    {
      "cell_type": "code",
      "execution_count": 22,
      "id": "3Is64Y-hpDpq",
      "metadata": {
        "id": "3Is64Y-hpDpq"
      },
      "outputs": [
        {
          "name": "stderr",
          "output_type": "stream",
          "text": [
            "C:\\Users\\Smoking Shop\\AppData\\Local\\Temp\\ipykernel_6800\\1998695830.py:2: UserWarning: pandas only supports SQLAlchemy connectable (engine/connection) or database string URI or sqlite3 DBAPI2 connection. Other DBAPI2 objects are not tested. Please consider using SQLAlchemy.\n",
            "  experience_count = pd.read_sql_query(query_4_5, connection)\n"
          ]
        },
        {
          "data": {
            "text/html": [
              "<div>\n",
              "<style scoped>\n",
              "    .dataframe tbody tr th:only-of-type {\n",
              "        vertical-align: middle;\n",
              "    }\n",
              "\n",
              "    .dataframe tbody tr th {\n",
              "        vertical-align: top;\n",
              "    }\n",
              "\n",
              "    .dataframe thead th {\n",
              "        text-align: right;\n",
              "    }\n",
              "</style>\n",
              "<table border=\"1\" class=\"dataframe\">\n",
              "  <thead>\n",
              "    <tr style=\"text-align: right;\">\n",
              "      <th></th>\n",
              "      <th>experience</th>\n",
              "      <th>count</th>\n",
              "    </tr>\n",
              "  </thead>\n",
              "  <tbody>\n",
              "    <tr>\n",
              "      <th>0</th>\n",
              "      <td>Более 6 лет</td>\n",
              "      <td>1337</td>\n",
              "    </tr>\n",
              "    <tr>\n",
              "      <th>1</th>\n",
              "      <td>Нет опыта</td>\n",
              "      <td>7197</td>\n",
              "    </tr>\n",
              "    <tr>\n",
              "      <th>2</th>\n",
              "      <td>От 3 до 6 лет</td>\n",
              "      <td>14511</td>\n",
              "    </tr>\n",
              "    <tr>\n",
              "      <th>3</th>\n",
              "      <td>От 1 года до 3 лет</td>\n",
              "      <td>26152</td>\n",
              "    </tr>\n",
              "  </tbody>\n",
              "</table>\n",
              "</div>"
            ],
            "text/plain": [
              "           experience  count\n",
              "0         Более 6 лет   1337\n",
              "1           Нет опыта   7197\n",
              "2       От 3 до 6 лет  14511\n",
              "3  От 1 года до 3 лет  26152"
            ]
          },
          "execution_count": 22,
          "metadata": {},
          "output_type": "execute_result"
        }
      ],
      "source": [
        "# результат запроса\n",
        "experience_count = pd.read_sql_query(query_4_5, connection)\n",
        "experience_count"
      ]
    },
    {
      "cell_type": "markdown",
      "id": "oq2b7n1QpIka",
      "metadata": {
        "id": "oq2b7n1QpIka"
      },
      "source": [
        "***"
      ]
    },
    {
      "cell_type": "code",
      "execution_count": 23,
      "id": "e91f87ed-e25c-4f96-9f92-b642e8c0b4fa",
      "metadata": {
        "id": "e91f87ed-e25c-4f96-9f92-b642e8c0b4fa"
      },
      "outputs": [
        {
          "data": {
            "image/png": "[encoded data removed]",
            "text/plain": [
              "<Figure size 800x400 with 1 Axes>"
            ]
          },
          "metadata": {},
          "output_type": "display_data"
        },
        {
          "data": {
            "image/png": "[encoded data removed]",
            "text/plain": [
              "<Figure size 800x400 with 1 Axes>"
            ]
          },
          "metadata": {},
          "output_type": "display_data"
        }
      ],
      "source": [
        "# выводы по детальному анализу вакансий\n",
        "\n",
        "# График, демонстрирующий средние показатели зарплатной вилки\n",
        "fig, ax = plt.subplots(1, 1, figsize=(8, 4))\n",
        "barplot = sns.barplot(avg_salary, ax=ax)\n",
        "ax.set_title('Разница между средними показателями заработной вилки');\n",
        "ax.set_xlabel('Зп от и до');\n",
        "ax.set_ylabel('Средняя заработная плата');\n",
        "\n",
        "# График, демонстрирующий количество вакансий в зависимости от опыта работы\n",
        "fig, ax = plt.subplots(1, 1, figsize=(8, 4))\n",
        "barplot = sns.barplot(data = experience_count,\n",
        "                        x= 'experience',\n",
        "                        y= 'count',\n",
        "                        ax=ax)\n",
        "ax.set_title('Кол-во вакансий в зависимости от оптыа работы');\n",
        "ax.set_xlabel('Опыт работы');\n",
        "ax.set_ylabel('Количество вакансий');"
      ]
    },
    {
      "cell_type": "markdown",
      "id": "b52e6d4c",
      "metadata": {},
      "source": [
        "## Выводы: ##\n",
        "* 1. Большинство вакансий требуется для крупных и развитых городов, таких как Москва и региональные центры. Большинство крупных развивающихся фирм, нуждающихся в специалистах IT-области имеют в них офисы.\n",
        "* 2. Около половины вакансий показывают уровень заработной платы. Вероятно для привлечения специалистов.\n",
        "* 3. Средний показатель максимальной заработной платы для вакансии превышает минимальный показатель в 1.5 раза. Это если не судить о показателях заработной платы в разрезе опыта работы требуемого специалиста. Так уровень заработной платы может различаться в несколько раз.\n",
        "* 4. Самый популярный тип трудоустройства это \"Полная занятость\". Самый популярный график работы (в порядке убывания) это \"Полный день\", \"Удаленная работа\", \"Гибкий график\". Это свидельствует о том, что компании ищут себе специалистов на постоянное место работы, что в свою очередь говорит о количестве и востребованности работы для которой необходимы IT-специалисты.\n",
        "* 5. Набольшое количество работодателей ищет специалистов с опытом работы от 1 до 3 лет. Наименьший показатель имеют вакансии с опытом работы от 6 лет. Это может говорить об относительной \"молодости\" необходимых IT-профессий и специалисты с большим опытом работы встречаются довольно редко. "
      ]
    },
    {
      "cell_type": "markdown",
      "id": "7ea20ab6-04a7-40a0-adec-443a0e5a42c3",
      "metadata": {
        "id": "7ea20ab6-04a7-40a0-adec-443a0e5a42c3"
      },
      "source": [
        "# Юнит 5. Анализ работодателей"
      ]
    },
    {
      "cell_type": "markdown",
      "id": "968aed80-74ef-4ffb-b5bf-c65b84e9caea",
      "metadata": {
        "id": "968aed80-74ef-4ffb-b5bf-c65b84e9caea"
      },
      "source": [
        "1. Напишите запрос, который позволит узнать, какие работодатели находятся на первом и пятом месте по количеству вакансий."
      ]
    },
    {
      "cell_type": "code",
      "execution_count": 24,
      "id": "f2d62796-d400-4ec1-a675-88112739a50e",
      "metadata": {
        "id": "f2d62796-d400-4ec1-a675-88112739a50e"
      },
      "outputs": [],
      "source": [
        "# текст запроса\n",
        "query_5_1 = f'''select \n",
        "                   e.name employer_name,   /* Выводим столбец с названием работодателя таблицы е, алиас employer_name */\n",
        "                   count(v.id) vacancie_cnt   /* Выводим столбец с количеством вакансий таблицы v, алиас vacancie_cnt */\n",
        "                from public.employers e   /* Берем начальную таблицу работодателей, присваиваем алиас е */\n",
        "                join public.vacancies v on e.id = v.employer_id   /* Присоединяем таблицу вакансий с алиасом v, по id работодателя */\n",
        "                group by 1   /* Группируем по столбцу employer_name */\n",
        "                order by 2 desc /* Сортируем по столбцу vacancie_cnt в порядке убывания */\n",
        "                limit 5   /* Выводим топ-5 работодателей по количеству вакансий */\n",
        "'''                "
      ]
    },
    {
      "cell_type": "code",
      "execution_count": 25,
      "id": "64tOMkAxqkQk",
      "metadata": {
        "id": "64tOMkAxqkQk"
      },
      "outputs": [
        {
          "name": "stderr",
          "output_type": "stream",
          "text": [
            "C:\\Users\\Smoking Shop\\AppData\\Local\\Temp\\ipykernel_6800\\1079591548.py:2: UserWarning: pandas only supports SQLAlchemy connectable (engine/connection) or database string URI or sqlite3 DBAPI2 connection. Other DBAPI2 objects are not tested. Please consider using SQLAlchemy.\n",
            "  cnt_employers_by_vacancies = pd.read_sql_query(query_5_1, connection)\n"
          ]
        },
        {
          "data": {
            "text/html": [
              "<div>\n",
              "<style scoped>\n",
              "    .dataframe tbody tr th:only-of-type {\n",
              "        vertical-align: middle;\n",
              "    }\n",
              "\n",
              "    .dataframe tbody tr th {\n",
              "        vertical-align: top;\n",
              "    }\n",
              "\n",
              "    .dataframe thead th {\n",
              "        text-align: right;\n",
              "    }\n",
              "</style>\n",
              "<table border=\"1\" class=\"dataframe\">\n",
              "  <thead>\n",
              "    <tr style=\"text-align: right;\">\n",
              "      <th></th>\n",
              "      <th>employer_name</th>\n",
              "      <th>vacancie_cnt</th>\n",
              "    </tr>\n",
              "  </thead>\n",
              "  <tbody>\n",
              "    <tr>\n",
              "      <th>0</th>\n",
              "      <td>Яндекс</td>\n",
              "      <td>1933</td>\n",
              "    </tr>\n",
              "    <tr>\n",
              "      <th>1</th>\n",
              "      <td>Ростелеком</td>\n",
              "      <td>491</td>\n",
              "    </tr>\n",
              "    <tr>\n",
              "      <th>2</th>\n",
              "      <td>Тинькофф</td>\n",
              "      <td>444</td>\n",
              "    </tr>\n",
              "    <tr>\n",
              "      <th>3</th>\n",
              "      <td>СБЕР</td>\n",
              "      <td>428</td>\n",
              "    </tr>\n",
              "    <tr>\n",
              "      <th>4</th>\n",
              "      <td>Газпром нефть</td>\n",
              "      <td>331</td>\n",
              "    </tr>\n",
              "  </tbody>\n",
              "</table>\n",
              "</div>"
            ],
            "text/plain": [
              "   employer_name  vacancie_cnt\n",
              "0         Яндекс          1933\n",
              "1     Ростелеком           491\n",
              "2       Тинькофф           444\n",
              "3           СБЕР           428\n",
              "4  Газпром нефть           331"
            ]
          },
          "execution_count": 25,
          "metadata": {},
          "output_type": "execute_result"
        }
      ],
      "source": [
        "# результат запроса\n",
        "cnt_employers_by_vacancies = pd.read_sql_query(query_5_1, connection)\n",
        "cnt_employers_by_vacancies"
      ]
    },
    {
      "cell_type": "markdown",
      "id": "68377cfc-b378-43dc-ab7d-1195abf2c515",
      "metadata": {
        "id": "68377cfc-b378-43dc-ab7d-1195abf2c515"
      },
      "source": [
        "2. Напишите запрос, который для каждого региона выведет количество работодателей и вакансий в нём.\n",
        "Среди регионов, в которых нет вакансий, найдите тот, в котором наибольшее количество работодателей.\n"
      ]
    },
    {
      "cell_type": "code",
      "execution_count": 26,
      "id": "dd7df27a-e3e8-412e-a21a-5d389b71e891",
      "metadata": {
        "id": "dd7df27a-e3e8-412e-a21a-5d389b71e891"
      },
      "outputs": [],
      "source": [
        "# текст запроса\n",
        "query_5_2 = f'''select \n",
        "                   a.name area_name,   /* Выводим столбец с названиями регионов таблицы а, алиас area_name */\n",
        "                   count(e.id) employers_cnt,   /* Выводим столбец с количеством работодателей таблицы е, алиас employers_cnt */\n",
        "                   count(v.id) vacancies_cnt   /* Выводим столбец с количеством вакансий таблицы v, алиас vacancies_cnt */\n",
        "                from public.areas a   /* Берем основную таблицы регионов с алиасом а */\n",
        "                left join public.employers e on e.area = a.id   /* Присоединяем таблицу с работодателями, алиас е, по id регионов */\n",
        "                left join public.vacancies v  on v.area_id = a.id   /* Присоединяем таблицу с вакансиями, алиас v, по id регионов */\n",
        "                group by area_name   /* Группируем по столбцу с названиями регионов */\n",
        "                order by 3, 2   /* Сортируем по столбцам employers_cnt, vacancies_cnt в порядке возростания значений */\n",
        "'''"
      ]
    },
    {
      "cell_type": "code",
      "execution_count": 27,
      "id": "x1ikWbydrbf6",
      "metadata": {
        "id": "x1ikWbydrbf6"
      },
      "outputs": [
        {
          "name": "stderr",
          "output_type": "stream",
          "text": [
            "C:\\Users\\Smoking Shop\\AppData\\Local\\Temp\\ipykernel_6800\\419001086.py:2: UserWarning: pandas only supports SQLAlchemy connectable (engine/connection) or database string URI or sqlite3 DBAPI2 connection. Other DBAPI2 objects are not tested. Please consider using SQLAlchemy.\n",
            "  count_for_areas = pd.read_sql_query(query_5_2, connection)\n"
          ]
        },
        {
          "data": {
            "text/html": [
              "<div>\n",
              "<style scoped>\n",
              "    .dataframe tbody tr th:only-of-type {\n",
              "        vertical-align: middle;\n",
              "    }\n",
              "\n",
              "    .dataframe tbody tr th {\n",
              "        vertical-align: top;\n",
              "    }\n",
              "\n",
              "    .dataframe thead th {\n",
              "        text-align: right;\n",
              "    }\n",
              "</style>\n",
              "<table border=\"1\" class=\"dataframe\">\n",
              "  <thead>\n",
              "    <tr style=\"text-align: right;\">\n",
              "      <th></th>\n",
              "      <th>area_name</th>\n",
              "      <th>employers_cnt</th>\n",
              "      <th>vacancies_cnt</th>\n",
              "    </tr>\n",
              "  </thead>\n",
              "  <tbody>\n",
              "    <tr>\n",
              "      <th>0</th>\n",
              "      <td>Котельниково</td>\n",
              "      <td>0</td>\n",
              "      <td>0</td>\n",
              "    </tr>\n",
              "    <tr>\n",
              "      <th>1</th>\n",
              "      <td>Скидель</td>\n",
              "      <td>0</td>\n",
              "      <td>0</td>\n",
              "    </tr>\n",
              "    <tr>\n",
              "      <th>2</th>\n",
              "      <td>Бакал</td>\n",
              "      <td>0</td>\n",
              "      <td>0</td>\n",
              "    </tr>\n",
              "    <tr>\n",
              "      <th>3</th>\n",
              "      <td>Большой Исток</td>\n",
              "      <td>0</td>\n",
              "      <td>0</td>\n",
              "    </tr>\n",
              "    <tr>\n",
              "      <th>4</th>\n",
              "      <td>Львовское</td>\n",
              "      <td>0</td>\n",
              "      <td>0</td>\n",
              "    </tr>\n",
              "    <tr>\n",
              "      <th>...</th>\n",
              "      <td>...</td>\n",
              "      <td>...</td>\n",
              "      <td>...</td>\n",
              "    </tr>\n",
              "    <tr>\n",
              "      <th>1357</th>\n",
              "      <td>Новосибирск</td>\n",
              "      <td>1149438</td>\n",
              "      <td>1149438</td>\n",
              "    </tr>\n",
              "    <tr>\n",
              "      <th>1358</th>\n",
              "      <td>Алматы</td>\n",
              "      <td>1364132</td>\n",
              "      <td>1364132</td>\n",
              "    </tr>\n",
              "    <tr>\n",
              "      <th>1359</th>\n",
              "      <td>Минск</td>\n",
              "      <td>2354880</td>\n",
              "      <td>2354880</td>\n",
              "    </tr>\n",
              "    <tr>\n",
              "      <th>1360</th>\n",
              "      <td>Санкт-Петербург</td>\n",
              "      <td>6320667</td>\n",
              "      <td>6320667</td>\n",
              "    </tr>\n",
              "    <tr>\n",
              "      <th>1361</th>\n",
              "      <td>Москва</td>\n",
              "      <td>31272712</td>\n",
              "      <td>31272712</td>\n",
              "    </tr>\n",
              "  </tbody>\n",
              "</table>\n",
              "<p>1362 rows × 3 columns</p>\n",
              "</div>"
            ],
            "text/plain": [
              "            area_name  employers_cnt  vacancies_cnt\n",
              "0        Котельниково              0              0\n",
              "1             Скидель              0              0\n",
              "2               Бакал              0              0\n",
              "3       Большой Исток              0              0\n",
              "4           Львовское              0              0\n",
              "...               ...            ...            ...\n",
              "1357      Новосибирск        1149438        1149438\n",
              "1358           Алматы        1364132        1364132\n",
              "1359            Минск        2354880        2354880\n",
              "1360  Санкт-Петербург        6320667        6320667\n",
              "1361           Москва       31272712       31272712\n",
              "\n",
              "[1362 rows x 3 columns]"
            ]
          },
          "execution_count": 27,
          "metadata": {},
          "output_type": "execute_result"
        }
      ],
      "source": [
        "# результат запроса\n",
        "count_for_areas = pd.read_sql_query(query_5_2, connection)\n",
        "count_for_areas"
      ]
    },
    {
      "cell_type": "markdown",
      "id": "f2fe0acb-ab1a-4e15-9326-2560e22d73c1",
      "metadata": {
        "id": "f2fe0acb-ab1a-4e15-9326-2560e22d73c1"
      },
      "source": [
        "3. Для каждого работодателя посчитайте количество регионов, в которых он публикует свои вакансии. Отсортируйте результат по убыванию количества.\n"
      ]
    },
    {
      "cell_type": "code",
      "execution_count": 28,
      "id": "6271f8ad-bd2e-4196-ae4a-5b39c4c1010e",
      "metadata": {
        "id": "6271f8ad-bd2e-4196-ae4a-5b39c4c1010e"
      },
      "outputs": [],
      "source": [
        "# текст запроса\n",
        "query_5_3 = f'''select\n",
        "                   count(distinct v.area_id) area_cnt,  /* Выводим столбец с количеством уникальных id регионов таблицы v, алиас area_cnt */\n",
        "                   e.name employer_name   /* Выводим столбец с названием работодателя таблицы е, алиас employer_name */\n",
        "                from vacancies v  /* Берем основную таблицу вакансий с аласом v */\n",
        "                left join employers e on v.employer_id=e.id   /* Присоединяем таблицу работодателей с алиасом е по id работодателя */\n",
        "                group by e.id   /* Группируем по id работодателя */\n",
        "                order by 1 desc   /* Сортируем по столбцу area_cnt в порядке убывания */\n",
        "''' "
      ]
    },
    {
      "cell_type": "code",
      "execution_count": 29,
      "id": "1EIvX3HasH4F",
      "metadata": {
        "id": "1EIvX3HasH4F"
      },
      "outputs": [
        {
          "name": "stderr",
          "output_type": "stream",
          "text": [
            "C:\\Users\\Smoking Shop\\AppData\\Local\\Temp\\ipykernel_6800\\526183072.py:2: UserWarning: pandas only supports SQLAlchemy connectable (engine/connection) or database string URI or sqlite3 DBAPI2 connection. Other DBAPI2 objects are not tested. Please consider using SQLAlchemy.\n",
            "  employer_cnt_areas = pd.read_sql_query(query_5_3, connection)\n"
          ]
        },
        {
          "data": {
            "text/html": [
              "<div>\n",
              "<style scoped>\n",
              "    .dataframe tbody tr th:only-of-type {\n",
              "        vertical-align: middle;\n",
              "    }\n",
              "\n",
              "    .dataframe tbody tr th {\n",
              "        vertical-align: top;\n",
              "    }\n",
              "\n",
              "    .dataframe thead th {\n",
              "        text-align: right;\n",
              "    }\n",
              "</style>\n",
              "<table border=\"1\" class=\"dataframe\">\n",
              "  <thead>\n",
              "    <tr style=\"text-align: right;\">\n",
              "      <th></th>\n",
              "      <th>area_cnt</th>\n",
              "      <th>employer_name</th>\n",
              "    </tr>\n",
              "  </thead>\n",
              "  <tbody>\n",
              "    <tr>\n",
              "      <th>0</th>\n",
              "      <td>181</td>\n",
              "      <td>Яндекс</td>\n",
              "    </tr>\n",
              "    <tr>\n",
              "      <th>1</th>\n",
              "      <td>152</td>\n",
              "      <td>Ростелеком</td>\n",
              "    </tr>\n",
              "    <tr>\n",
              "      <th>2</th>\n",
              "      <td>116</td>\n",
              "      <td>Спецремонт</td>\n",
              "    </tr>\n",
              "    <tr>\n",
              "      <th>3</th>\n",
              "      <td>88</td>\n",
              "      <td>Поляков Денис Иванович</td>\n",
              "    </tr>\n",
              "    <tr>\n",
              "      <th>4</th>\n",
              "      <td>71</td>\n",
              "      <td>ООО ЕФИН</td>\n",
              "    </tr>\n",
              "    <tr>\n",
              "      <th>...</th>\n",
              "      <td>...</td>\n",
              "      <td>...</td>\n",
              "    </tr>\n",
              "    <tr>\n",
              "      <th>14901</th>\n",
              "      <td>1</td>\n",
              "      <td>НПП Авиатрон</td>\n",
              "    </tr>\n",
              "    <tr>\n",
              "      <th>14902</th>\n",
              "      <td>1</td>\n",
              "      <td>Центр дистанционных торгов</td>\n",
              "    </tr>\n",
              "    <tr>\n",
              "      <th>14903</th>\n",
              "      <td>1</td>\n",
              "      <td>Городские Телекоммуникационные Системы</td>\n",
              "    </tr>\n",
              "    <tr>\n",
              "      <th>14904</th>\n",
              "      <td>1</td>\n",
              "      <td>Введенский, Отель</td>\n",
              "    </tr>\n",
              "    <tr>\n",
              "      <th>14905</th>\n",
              "      <td>1</td>\n",
              "      <td>Группа Компаний Автоимпорт</td>\n",
              "    </tr>\n",
              "  </tbody>\n",
              "</table>\n",
              "<p>14906 rows × 2 columns</p>\n",
              "</div>"
            ],
            "text/plain": [
              "       area_cnt                           employer_name\n",
              "0           181                                  Яндекс\n",
              "1           152                              Ростелеком\n",
              "2           116                              Спецремонт\n",
              "3            88                  Поляков Денис Иванович\n",
              "4            71                               ООО ЕФИН \n",
              "...         ...                                     ...\n",
              "14901         1                            НПП Авиатрон\n",
              "14902         1              Центр дистанционных торгов\n",
              "14903         1  Городские Телекоммуникационные Системы\n",
              "14904         1                       Введенский, Отель\n",
              "14905         1              Группа Компаний Автоимпорт\n",
              "\n",
              "[14906 rows x 2 columns]"
            ]
          },
          "execution_count": 29,
          "metadata": {},
          "output_type": "execute_result"
        }
      ],
      "source": [
        "# результат запроса\n",
        "employer_cnt_areas = pd.read_sql_query(query_5_3, connection)\n",
        "employer_cnt_areas"
      ]
    },
    {
      "cell_type": "markdown",
      "id": "eab2206d-d95b-468b-8e5f-34381abf0ce7",
      "metadata": {
        "id": "eab2206d-d95b-468b-8e5f-34381abf0ce7"
      },
      "source": [
        "4. Напишите запрос для подсчёта количества работодателей, у которых не указана сфера деятельности. "
      ]
    },
    {
      "cell_type": "code",
      "execution_count": 30,
      "id": "80defb23-bfb1-4a18-8be6-bf36aa7165d5",
      "metadata": {
        "id": "80defb23-bfb1-4a18-8be6-bf36aa7165d5"
      },
      "outputs": [],
      "source": [
        "# текст запроса\n",
        "query_5_4 = f'''select\n",
        "                   count(*)   /* Выводим столбец с количеством полученных значений */\n",
        "                from employers e   /* Берем основную таблицу работодателей с алиасом е */\n",
        "                left join employers_industries ei on e.id = ei.employer_id   /* Присоединяем таблицу с id сфер деятельности, алиас ei, по id работодателя */\n",
        "                where ei.industry_id is null   /* Задаем условие где id сферы деятельности имеет пустое значение */\n",
        "'''"
      ]
    },
    {
      "cell_type": "code",
      "execution_count": 31,
      "id": "Dp_yCx6ysQSu",
      "metadata": {
        "id": "Dp_yCx6ysQSu"
      },
      "outputs": [
        {
          "name": "stderr",
          "output_type": "stream",
          "text": [
            "C:\\Users\\Smoking Shop\\AppData\\Local\\Temp\\ipykernel_6800\\2389689893.py:2: UserWarning: pandas only supports SQLAlchemy connectable (engine/connection) or database string URI or sqlite3 DBAPI2 connection. Other DBAPI2 objects are not tested. Please consider using SQLAlchemy.\n",
            "  industrys_null = pd.read_sql_query(query_5_4, connection)\n"
          ]
        },
        {
          "data": {
            "text/html": [
              "<div>\n",
              "<style scoped>\n",
              "    .dataframe tbody tr th:only-of-type {\n",
              "        vertical-align: middle;\n",
              "    }\n",
              "\n",
              "    .dataframe tbody tr th {\n",
              "        vertical-align: top;\n",
              "    }\n",
              "\n",
              "    .dataframe thead th {\n",
              "        text-align: right;\n",
              "    }\n",
              "</style>\n",
              "<table border=\"1\" class=\"dataframe\">\n",
              "  <thead>\n",
              "    <tr style=\"text-align: right;\">\n",
              "      <th></th>\n",
              "      <th>count</th>\n",
              "    </tr>\n",
              "  </thead>\n",
              "  <tbody>\n",
              "    <tr>\n",
              "      <th>0</th>\n",
              "      <td>8419</td>\n",
              "    </tr>\n",
              "  </tbody>\n",
              "</table>\n",
              "</div>"
            ],
            "text/plain": [
              "   count\n",
              "0   8419"
            ]
          },
          "execution_count": 31,
          "metadata": {},
          "output_type": "execute_result"
        }
      ],
      "source": [
        "# результат запроса\n",
        "industrys_null = pd.read_sql_query(query_5_4, connection)\n",
        "industrys_null"
      ]
    },
    {
      "cell_type": "markdown",
      "id": "0112af31-f6b0-4e3b-82ab-71296e752e5e",
      "metadata": {
        "id": "0112af31-f6b0-4e3b-82ab-71296e752e5e"
      },
      "source": [
        "5. Напишите запрос, чтобы узнать название компании, находящейся на третьем месте в алфавитном списке (по названию) компаний, у которых указано четыре сферы деятельности. "
      ]
    },
    {
      "cell_type": "code",
      "execution_count": 32,
      "id": "973b0cfc-a972-470a-8b4a-68744ef220c4",
      "metadata": {
        "id": "973b0cfc-a972-470a-8b4a-68744ef220c4"
      },
      "outputs": [],
      "source": [
        "# текст запроса\n",
        "query_5_5 = f'''select\n",
        "                   e.name employer_name,   /* Выводим столбец с названием работодателя таблицы е, алиас employer_name */\n",
        "                   count(industry_id) industry_cnt   /* Выводим столбец с количеством id сфер деятельности, алиас industry_id */\n",
        "                from employers e   /* Берем основную таблицу работодателей, алиас е */\n",
        "                join employers_industries ei on e.id = ei.employer_id   /* Присоединяем таблицу id сфер деятельности, алиас ei, по id работодателя */\n",
        "                group by 1   /* Группируем по столбцу employer_name */\n",
        "                having count(industry_id) = 4   /* Задаем условие - кол-во сфер деятельности равно 4 */\n",
        "                order by 1   /* Сортируем по столбцу employer_name */\n",
        "                offset 2 limit 1   /* Выводим данные работодателя, находящегося на 3 месте */\n",
        "'''"
      ]
    },
    {
      "cell_type": "code",
      "execution_count": 33,
      "id": "xsPtpp8EsaED",
      "metadata": {
        "id": "xsPtpp8EsaED"
      },
      "outputs": [
        {
          "name": "stderr",
          "output_type": "stream",
          "text": [
            "C:\\Users\\Smoking Shop\\AppData\\Local\\Temp\\ipykernel_6800\\1981004799.py:2: UserWarning: pandas only supports SQLAlchemy connectable (engine/connection) or database string URI or sqlite3 DBAPI2 connection. Other DBAPI2 objects are not tested. Please consider using SQLAlchemy.\n",
            "  cnt_by_industry = pd.read_sql_query(query_5_5, connection)\n"
          ]
        },
        {
          "data": {
            "text/html": [
              "<div>\n",
              "<style scoped>\n",
              "    .dataframe tbody tr th:only-of-type {\n",
              "        vertical-align: middle;\n",
              "    }\n",
              "\n",
              "    .dataframe tbody tr th {\n",
              "        vertical-align: top;\n",
              "    }\n",
              "\n",
              "    .dataframe thead th {\n",
              "        text-align: right;\n",
              "    }\n",
              "</style>\n",
              "<table border=\"1\" class=\"dataframe\">\n",
              "  <thead>\n",
              "    <tr style=\"text-align: right;\">\n",
              "      <th></th>\n",
              "      <th>employer_name</th>\n",
              "      <th>industry_cnt</th>\n",
              "    </tr>\n",
              "  </thead>\n",
              "  <tbody>\n",
              "    <tr>\n",
              "      <th>0</th>\n",
              "      <td>2ГИС</td>\n",
              "      <td>4</td>\n",
              "    </tr>\n",
              "  </tbody>\n",
              "</table>\n",
              "</div>"
            ],
            "text/plain": [
              "  employer_name  industry_cnt\n",
              "0          2ГИС             4"
            ]
          },
          "execution_count": 33,
          "metadata": {},
          "output_type": "execute_result"
        }
      ],
      "source": [
        "# результат запроса\n",
        "cnt_by_industry = pd.read_sql_query(query_5_5, connection)\n",
        "cnt_by_industry"
      ]
    },
    {
      "cell_type": "markdown",
      "id": "3bfcfdaf-755d-4d2b-8ed8-326201dc07ab",
      "metadata": {
        "id": "3bfcfdaf-755d-4d2b-8ed8-326201dc07ab"
      },
      "source": [
        "6. С помощью запроса выясните, у какого количества работодателей в качестве сферы деятельности указана Разработка программного обеспечения.\n"
      ]
    },
    {
      "cell_type": "code",
      "execution_count": 34,
      "id": "ad3f270f-2991-47eb-929b-e8f88a55b0d1",
      "metadata": {
        "id": "ad3f270f-2991-47eb-929b-e8f88a55b0d1"
      },
      "outputs": [],
      "source": [
        "# текст запроса\n",
        "query_5_6 = f'''select\n",
        "                   count(e.id)   /* Выводим столбец с кол-ом работодателей таблицы е */\n",
        "                from public.employers e   /* Берем основную таблицу работодателей, алиас е */ \n",
        "                join public.employers_industries ei on ei.employer_id = e.id   /* Присоединяем таблицу id сфер деятельности, алиас ei, по id работодателя */\n",
        "                join public.industries i on i.id = ei.industry_id   /* Присоединяем таблицу сфер деятельности, алиас i, по id сферы деятельности */\n",
        "                   /* Задаем условие для названия сферы деятельности */\n",
        "                where i.name like '%Разработка%программного%обеспечения%'\n",
        "'''"
      ]
    },
    {
      "cell_type": "code",
      "execution_count": 35,
      "id": "H72qxWM0shPR",
      "metadata": {
        "id": "H72qxWM0shPR"
      },
      "outputs": [
        {
          "name": "stderr",
          "output_type": "stream",
          "text": [
            "C:\\Users\\Smoking Shop\\AppData\\Local\\Temp\\ipykernel_6800\\208677899.py:2: UserWarning: pandas only supports SQLAlchemy connectable (engine/connection) or database string URI or sqlite3 DBAPI2 connection. Other DBAPI2 objects are not tested. Please consider using SQLAlchemy.\n",
            "  cnt_employers_by_industries = pd.read_sql_query(query_5_6, connection)\n"
          ]
        },
        {
          "data": {
            "text/html": [
              "<div>\n",
              "<style scoped>\n",
              "    .dataframe tbody tr th:only-of-type {\n",
              "        vertical-align: middle;\n",
              "    }\n",
              "\n",
              "    .dataframe tbody tr th {\n",
              "        vertical-align: top;\n",
              "    }\n",
              "\n",
              "    .dataframe thead th {\n",
              "        text-align: right;\n",
              "    }\n",
              "</style>\n",
              "<table border=\"1\" class=\"dataframe\">\n",
              "  <thead>\n",
              "    <tr style=\"text-align: right;\">\n",
              "      <th></th>\n",
              "      <th>count</th>\n",
              "    </tr>\n",
              "  </thead>\n",
              "  <tbody>\n",
              "    <tr>\n",
              "      <th>0</th>\n",
              "      <td>3553</td>\n",
              "    </tr>\n",
              "  </tbody>\n",
              "</table>\n",
              "</div>"
            ],
            "text/plain": [
              "   count\n",
              "0   3553"
            ]
          },
          "execution_count": 35,
          "metadata": {},
          "output_type": "execute_result"
        }
      ],
      "source": [
        "# результат запроса\n",
        "cnt_employers_by_industries = pd.read_sql_query(query_5_6, connection)\n",
        "cnt_employers_by_industries"
      ]
    },
    {
      "cell_type": "markdown",
      "id": "7b02bb86-0546-40fb-94a4-242f050a5c57",
      "metadata": {
        "id": "7b02bb86-0546-40fb-94a4-242f050a5c57"
      },
      "source": [
        "7. Для компании «Яндекс» выведите список регионов-миллионников, в которых представлены вакансии компании, вместе с количеством вакансий в этих регионах. Также добавьте строку Total с общим количеством вакансий компании. Результат отсортируйте по возрастанию количества.\n",
        "\n",
        "Список городов-милионников надо взять [отсюда](https://ru.wikipedia.org/wiki/%D0%93%D0%BE%D1%80%D0%BE%D0%B4%D0%B0-%D0%BC%D0%B8%D0%BB%D0%BB%D0%B8%D0%BE%D0%BD%D0%B5%D1%80%D1%8B_%D0%A0%D0%BE%D1%81%D1%81%D0%B8%D0%B8). \n",
        "\n",
        "Если возникнут трудности с этим задание посмотрите материалы модуля  PYTHON-17. Как получать данные из веб-источников и API. "
      ]
    },
    {
      "cell_type": "code",
      "execution_count": 36,
      "id": "ZdfrL6gIs1Pn",
      "metadata": {
        "id": "ZdfrL6gIs1Pn"
      },
      "outputs": [
        {
          "name": "stdout",
          "output_type": "stream",
          "text": [
            "('Москва', 'Санкт-Петербург', 'Новосибирск', 'Екатеринбург', 'Казань', 'Красноярск', 'Нижний Новгород', 'Челябинск', 'Уфа', 'Самара', 'Ростов-на-Дону', 'Краснодар', 'Омск', 'Воронеж', 'Пермь', 'Волгоград')\n"
          ]
        }
      ],
      "source": [
        "# код для получения списка городов-милионников\n",
        "import requests\n",
        "from bs4 import BeautifulSoup\n",
        "url = 'https://ru.wikipedia.org/wiki/Города-миллионеры_России'\n",
        "response = requests.get(url)\n",
        "page = BeautifulSoup(response.text, 'html.parser')\n",
        "cities = (str(page.find('table', class_='standard')))\n",
        "cities = cities.split('title=\"')[3:]\n",
        "million_cities = []\n",
        "for i in cities:\n",
        "    million_cities.append(i.split('\">')[0])\n",
        "million_cities = tuple(million_cities)\n",
        "print(million_cities)"
      ]
    },
    {
      "cell_type": "code",
      "execution_count": 37,
      "id": "5a0e32a4-e68a-4365-8a39-2fe24c542c36",
      "metadata": {
        "id": "5a0e32a4-e68a-4365-8a39-2fe24c542c36"
      },
      "outputs": [],
      "source": [
        "# текст запроса\n",
        "query_5_7 = f'''\n",
        "                select\n",
        "                   a.name,   /* Выводим столбец с названиями регионов таблицы а */\n",
        "                   count(v.id) cnt   /* Выводим столбец с количеством вакансий */\n",
        "                from public.vacancies v   /* Берем основную таблицу вакансий, алиас v */\n",
        "                join public.areas a on a.id = v.area_id   /* Присоединяем таблицу с регионами, алиас а, по id региона */\n",
        "                join public.employers e on e.id = v.employer_id   /* Присоединяем таблицу работодателей, алиас е, по id работодателя */\n",
        "                where e.name = 'Яндекс' /* Задаем условие для названия работодателя */\n",
        "                group by 1   /* Группируем по столбцу с названием региона */\n",
        "                having a.name in {million_cities}   /* Задаем условие что название региона есть в списке городов-миллионников */\n",
        "                union   /* Обьединяем таблицы */\n",
        "                select \n",
        "                   'total',   /* Создаем столбец с названием total */\n",
        "                   count(distinct v.id)   /* Столбец с кол-ом уникальных id вакансий */\n",
        "                from public.vacancies v   /* Берем основную таблицу вакансий, алиас v */\n",
        "                join public.areas a on a.id = v.area_id   /* Присоединяем таблицу регионов, алиас а, по id региона */\n",
        "                join public.employers e on e.id = v.employer_id   /* Присоединяем таблицу работодателей, алиас е, по id работодателя */\n",
        "                   /* Задаем условие что название региона есть в списке городов-миллионников и название работодателя 'Яндекс' */\n",
        "                where a.name in {million_cities} and e.name = 'Яндекс'\n",
        "                \n",
        "                order by 2 desc   /* Сортируем по столбцу с количеством вакансий в порядке убывания */\n",
        "'''\n"
      ]
    },
    {
      "cell_type": "code",
      "execution_count": 38,
      "id": "ttPhiO1rsvPq",
      "metadata": {
        "id": "ttPhiO1rsvPq"
      },
      "outputs": [
        {
          "name": "stderr",
          "output_type": "stream",
          "text": [
            "C:\\Users\\Smoking Shop\\AppData\\Local\\Temp\\ipykernel_6800\\87562543.py:2: UserWarning: pandas only supports SQLAlchemy connectable (engine/connection) or database string URI or sqlite3 DBAPI2 connection. Other DBAPI2 objects are not tested. Please consider using SQLAlchemy.\n",
            "  yandex_cnt = pd.read_sql_query(query_5_7, connection)\n"
          ]
        },
        {
          "data": {
            "text/html": [
              "<div>\n",
              "<style scoped>\n",
              "    .dataframe tbody tr th:only-of-type {\n",
              "        vertical-align: middle;\n",
              "    }\n",
              "\n",
              "    .dataframe tbody tr th {\n",
              "        vertical-align: top;\n",
              "    }\n",
              "\n",
              "    .dataframe thead th {\n",
              "        text-align: right;\n",
              "    }\n",
              "</style>\n",
              "<table border=\"1\" class=\"dataframe\">\n",
              "  <thead>\n",
              "    <tr style=\"text-align: right;\">\n",
              "      <th></th>\n",
              "      <th>name</th>\n",
              "      <th>cnt</th>\n",
              "    </tr>\n",
              "  </thead>\n",
              "  <tbody>\n",
              "    <tr>\n",
              "      <th>0</th>\n",
              "      <td>total</td>\n",
              "      <td>485</td>\n",
              "    </tr>\n",
              "    <tr>\n",
              "      <th>1</th>\n",
              "      <td>Москва</td>\n",
              "      <td>54</td>\n",
              "    </tr>\n",
              "    <tr>\n",
              "      <th>2</th>\n",
              "      <td>Санкт-Петербург</td>\n",
              "      <td>42</td>\n",
              "    </tr>\n",
              "    <tr>\n",
              "      <th>3</th>\n",
              "      <td>Екатеринбург</td>\n",
              "      <td>39</td>\n",
              "    </tr>\n",
              "    <tr>\n",
              "      <th>4</th>\n",
              "      <td>Нижний Новгород</td>\n",
              "      <td>36</td>\n",
              "    </tr>\n",
              "    <tr>\n",
              "      <th>5</th>\n",
              "      <td>Новосибирск</td>\n",
              "      <td>35</td>\n",
              "    </tr>\n",
              "    <tr>\n",
              "      <th>6</th>\n",
              "      <td>Воронеж</td>\n",
              "      <td>32</td>\n",
              "    </tr>\n",
              "    <tr>\n",
              "      <th>7</th>\n",
              "      <td>Краснодар</td>\n",
              "      <td>30</td>\n",
              "    </tr>\n",
              "    <tr>\n",
              "      <th>8</th>\n",
              "      <td>Самара</td>\n",
              "      <td>26</td>\n",
              "    </tr>\n",
              "    <tr>\n",
              "      <th>9</th>\n",
              "      <td>Уфа</td>\n",
              "      <td>26</td>\n",
              "    </tr>\n",
              "    <tr>\n",
              "      <th>10</th>\n",
              "      <td>Пермь</td>\n",
              "      <td>25</td>\n",
              "    </tr>\n",
              "    <tr>\n",
              "      <th>11</th>\n",
              "      <td>Казань</td>\n",
              "      <td>25</td>\n",
              "    </tr>\n",
              "    <tr>\n",
              "      <th>12</th>\n",
              "      <td>Ростов-на-Дону</td>\n",
              "      <td>25</td>\n",
              "    </tr>\n",
              "    <tr>\n",
              "      <th>13</th>\n",
              "      <td>Волгоград</td>\n",
              "      <td>24</td>\n",
              "    </tr>\n",
              "    <tr>\n",
              "      <th>14</th>\n",
              "      <td>Красноярск</td>\n",
              "      <td>23</td>\n",
              "    </tr>\n",
              "    <tr>\n",
              "      <th>15</th>\n",
              "      <td>Челябинск</td>\n",
              "      <td>22</td>\n",
              "    </tr>\n",
              "    <tr>\n",
              "      <th>16</th>\n",
              "      <td>Омск</td>\n",
              "      <td>21</td>\n",
              "    </tr>\n",
              "  </tbody>\n",
              "</table>\n",
              "</div>"
            ],
            "text/plain": [
              "               name  cnt\n",
              "0             total  485\n",
              "1            Москва   54\n",
              "2   Санкт-Петербург   42\n",
              "3      Екатеринбург   39\n",
              "4   Нижний Новгород   36\n",
              "5       Новосибирск   35\n",
              "6           Воронеж   32\n",
              "7         Краснодар   30\n",
              "8            Самара   26\n",
              "9               Уфа   26\n",
              "10            Пермь   25\n",
              "11           Казань   25\n",
              "12   Ростов-на-Дону   25\n",
              "13        Волгоград   24\n",
              "14       Красноярск   23\n",
              "15        Челябинск   22\n",
              "16             Омск   21"
            ]
          },
          "execution_count": 38,
          "metadata": {},
          "output_type": "execute_result"
        }
      ],
      "source": [
        "# результат запроса\n",
        "yandex_cnt = pd.read_sql_query(query_5_7, connection)\n",
        "yandex_cnt"
      ]
    },
    {
      "cell_type": "markdown",
      "id": "04966e40-3bc3-4dc8-9ba2-e80580ce3abc",
      "metadata": {
        "id": "04966e40-3bc3-4dc8-9ba2-e80580ce3abc"
      },
      "source": [
        "***"
      ]
    },
    {
      "cell_type": "code",
      "execution_count": 39,
      "id": "aGGyER-yt4SR",
      "metadata": {
        "id": "aGGyER-yt4SR"
      },
      "outputs": [
        {
          "data": {
            "image/png": "[encoded data removed]",
            "text/plain": [
              "<Figure size 800x400 with 1 Axes>"
            ]
          },
          "metadata": {},
          "output_type": "display_data"
        },
        {
          "data": {
            "image/png": "[encoded data removed]",
            "text/plain": [
              "<Figure size 800x400 with 1 Axes>"
            ]
          },
          "metadata": {},
          "output_type": "display_data"
        }
      ],
      "source": [
        "# выводы по анализу работодателей\n",
        "# График, демонстрирующий Топ-5 работодателей по кол-ву вакансий\n",
        "fig, ax = plt.subplots(1, 1, figsize=(8, 4))\n",
        "barplot = sns.barplot(data = cnt_employers_by_vacancies,\n",
        "                        x= 'employer_name',\n",
        "                        y= 'vacancie_cnt',\n",
        "                        ax=ax)\n",
        "ax.set_title('Топ-5 работодателей по кол-ву вакансий');\n",
        "ax.set_xlabel('Работодатели');\n",
        "ax.set_ylabel('Количетсво вакансий');\n",
        "\n",
        "# График, демонстрирующий кол-во вакансий от компании Яндекс в городах-миллионниках и общее кол-во вакансий\n",
        "fig, ax = plt.subplots(1, 1, figsize=(8, 4))\n",
        "barplot = sns.barplot(data = yandex_cnt,\n",
        "                        x= 'name',\n",
        "                        y= 'cnt',\n",
        "                        ax=ax)\n",
        "ax.set_title('Вакансии от Яндекса в городах-миллионниках');\n",
        "ax.set_xlabel('Города-миллионники');\n",
        "ax.xaxis.set_tick_params(rotation=30,labelsize=7)\n",
        "ax.set_ylabel('Кол-во вакансий');"
      ]
    },
    {
      "cell_type": "markdown",
      "id": "50858ff2",
      "metadata": {},
      "source": [
        "## Выводы: ##\n",
        "* 1. Топ-5 работодателей в IT-области это Яндекс (крупнейший интернет холдинг в России. Ему требуется наибольшое количество IT-специалистов), Ростелеком (самый распространненый интрнет-провайдер в России), Тинькофф, СБЕР (в банковской среде очень востребованны IT-специалисты),  Газпром нефть (крупнейшая российская нефте-газовая компания также крайне понимает важность IT-области в современном бизнесе).\n",
        "* 2. Как уже говорилось ранее, наибольшее количество вакансий и работодателей сосредоточены в самых развитых и густонаселенных городах, таких как Москва и областные центры.\n",
        "* 3. Лидером по кол-ву регионов где размещенны вакансии работодателя, является Яндекс (181 регион). На втором месте Ростелеком (152 региона). На третьем месте Спецремонт - одна из крупнейших компаний России в сфере железнодорожного транспорта и транспортного машиностроения (116 регионов).\n",
        "* 4. Кол-во работодателей у которых не указана сфера деятельности равняется 8419. Здесь возможны два варианта: 1. Либо сфера деятельности у работодателя слишком большая, и он занимается широким видом услуг. 2. В IT-индустрии есть некая проблема. Вклад в развитие IT-подразделений в наше время является признаком развитости и успеха для многих компаний. В связи с этим некоторые компании также создают IT-отделы, но либо они им не слишком нужны, в виду размера той же компании работодателя, либо они плохо представляют что с ними делать.\n",
        "* 5. Более 3.5 тысяч работодателей занимаются разработкой программного обеспечения. Это говорит о направлении развития российского рынка в создании собственных IT-продуктов которым нужна поддержка."
      ]
    },
    {
      "cell_type": "markdown",
      "id": "b1ef156a-efcb-49ce-bb23-90763e7f35b2",
      "metadata": {
        "id": "b1ef156a-efcb-49ce-bb23-90763e7f35b2",
        "tags": []
      },
      "source": [
        "# Юнит 6. Предметный анализ"
      ]
    },
    {
      "cell_type": "markdown",
      "id": "b9cd50a0-992d-4988-8463-2b2b1c4629b4",
      "metadata": {
        "id": "b9cd50a0-992d-4988-8463-2b2b1c4629b4"
      },
      "source": [
        "1. Сколько вакансий имеет отношение к данным?\n",
        "\n",
        "Считаем, что вакансия имеет отношение к данным, если в её названии содержатся слова 'data' или 'данн'.\n",
        "\n",
        "*Подсказка: Обратите внимание, что названия вакансий могут быть написаны в любом регистре.* \n"
      ]
    },
    {
      "cell_type": "code",
      "execution_count": 40,
      "id": "54ab0e50-c0f1-47cc-a54b-bc5c8bc363f9",
      "metadata": {
        "id": "54ab0e50-c0f1-47cc-a54b-bc5c8bc363f9"
      },
      "outputs": [],
      "source": [
        "# текст запроса\n",
        "query_6_1 = f'''select \n",
        "                   count(*)   /* Выводим количество полученых значений */\n",
        "                from public.vacancies   /* Берем таблицу с вакансиями */\n",
        "                   /* Задаем условия для названия вакансии */\n",
        "                where name like '%data%' \n",
        "                   or name like '%данн%' \n",
        "                   or name like upper('%data%') \n",
        "                   or name like upper('%данн%')\n",
        "                   or name like '%Data%'\n",
        "                   or name like '%Данн%'\n",
        "'''"
      ]
    },
    {
      "cell_type": "code",
      "execution_count": 41,
      "id": "9F1meAqsuUjd",
      "metadata": {
        "id": "9F1meAqsuUjd"
      },
      "outputs": [
        {
          "name": "stderr",
          "output_type": "stream",
          "text": [
            "C:\\Users\\Smoking Shop\\AppData\\Local\\Temp\\ipykernel_6800\\2935617630.py:2: UserWarning: pandas only supports SQLAlchemy connectable (engine/connection) or database string URI or sqlite3 DBAPI2 connection. Other DBAPI2 objects are not tested. Please consider using SQLAlchemy.\n",
            "  data_vacancies = pd.read_sql_query(query_6_1, connection)\n"
          ]
        },
        {
          "data": {
            "text/html": [
              "<div>\n",
              "<style scoped>\n",
              "    .dataframe tbody tr th:only-of-type {\n",
              "        vertical-align: middle;\n",
              "    }\n",
              "\n",
              "    .dataframe tbody tr th {\n",
              "        vertical-align: top;\n",
              "    }\n",
              "\n",
              "    .dataframe thead th {\n",
              "        text-align: right;\n",
              "    }\n",
              "</style>\n",
              "<table border=\"1\" class=\"dataframe\">\n",
              "  <thead>\n",
              "    <tr style=\"text-align: right;\">\n",
              "      <th></th>\n",
              "      <th>count</th>\n",
              "    </tr>\n",
              "  </thead>\n",
              "  <tbody>\n",
              "    <tr>\n",
              "      <th>0</th>\n",
              "      <td>1771</td>\n",
              "    </tr>\n",
              "  </tbody>\n",
              "</table>\n",
              "</div>"
            ],
            "text/plain": [
              "   count\n",
              "0   1771"
            ]
          },
          "execution_count": 41,
          "metadata": {},
          "output_type": "execute_result"
        }
      ],
      "source": [
        "# результат запроса\n",
        "data_vacancies = pd.read_sql_query(query_6_1, connection)\n",
        "data_vacancies"
      ]
    },
    {
      "cell_type": "markdown",
      "id": "4dea20cb-a36b-474a-a0b9-e08e8e3857a5",
      "metadata": {
        "id": "4dea20cb-a36b-474a-a0b9-e08e8e3857a5"
      },
      "source": [
        "2. Сколько есть подходящих вакансий для начинающего дата-сайентиста? \n",
        "Будем считать вакансиями для дата-сайентистов такие, в названии которых есть хотя бы одно из следующих сочетаний:\n",
        "* 'data scientist'\n",
        "* 'data science'\n",
        "* 'исследователь данных'\n",
        "* 'ML' (здесь не нужно брать вакансии по HTML)\n",
        "* 'machine learning'\n",
        "* 'машинн%обучен%'\n",
        "\n",
        "** В следующих заданиях мы продолжим работать с вакансиями по этому условию.*\n",
        "\n",
        "Считаем вакансиями для специалистов уровня Junior следующие:\n",
        "* в названии есть слово 'junior' *или*\n",
        "* требуемый опыт — Нет опыта *или*\n",
        "* тип трудоустройства — Стажировка.\n",
        " "
      ]
    },
    {
      "cell_type": "code",
      "execution_count": 42,
      "id": "9c61b3c0-bb66-46c9-ae1e-81d3f5752b4a",
      "metadata": {
        "id": "9c61b3c0-bb66-46c9-ae1e-81d3f5752b4a"
      },
      "outputs": [],
      "source": [
        "# текст запроса\n",
        "query_6_2 = f'''select \n",
        "                   count(*)   /* Выводим количество полученных значений */\n",
        "                from public.vacancies   /* Берем таблицу вакансий */\n",
        "                   /* Задаем условия для названия вакансии,\n",
        "                   для столбца experience,\n",
        "                   и для столбца schedule */\n",
        "                where (name ilike '%junior%'\n",
        "                   or experience = 'Нет опыта'\n",
        "                   or schedule = 'Стажировка')\n",
        "                and\n",
        "                   (name ilike '%data scientist%'\n",
        "                    or name ilike '%data science%'\n",
        "                    or name ilike '%исследователь данных%'\n",
        "                    or (name ilike '%ML%' and name not ilike '%HTML%')\n",
        "                    or name ilike '%machine learning%'\n",
        "                    or name ilike '%машинн%обучен%'\n",
        "                    and key_skills is not null)\n",
        "'''"
      ]
    },
    {
      "cell_type": "code",
      "execution_count": 43,
      "id": "ZNM-LLYuu1dj",
      "metadata": {
        "id": "ZNM-LLYuu1dj"
      },
      "outputs": [
        {
          "name": "stderr",
          "output_type": "stream",
          "text": [
            "C:\\Users\\Smoking Shop\\AppData\\Local\\Temp\\ipykernel_6800\\625073081.py:2: UserWarning: pandas only supports SQLAlchemy connectable (engine/connection) or database string URI or sqlite3 DBAPI2 connection. Other DBAPI2 objects are not tested. Please consider using SQLAlchemy.\n",
            "  junior_vacancies = pd.read_sql_query(query_6_2, connection)\n"
          ]
        },
        {
          "data": {
            "text/html": [
              "<div>\n",
              "<style scoped>\n",
              "    .dataframe tbody tr th:only-of-type {\n",
              "        vertical-align: middle;\n",
              "    }\n",
              "\n",
              "    .dataframe tbody tr th {\n",
              "        vertical-align: top;\n",
              "    }\n",
              "\n",
              "    .dataframe thead th {\n",
              "        text-align: right;\n",
              "    }\n",
              "</style>\n",
              "<table border=\"1\" class=\"dataframe\">\n",
              "  <thead>\n",
              "    <tr style=\"text-align: right;\">\n",
              "      <th></th>\n",
              "      <th>count</th>\n",
              "    </tr>\n",
              "  </thead>\n",
              "  <tbody>\n",
              "    <tr>\n",
              "      <th>0</th>\n",
              "      <td>51</td>\n",
              "    </tr>\n",
              "  </tbody>\n",
              "</table>\n",
              "</div>"
            ],
            "text/plain": [
              "   count\n",
              "0     51"
            ]
          },
          "execution_count": 43,
          "metadata": {},
          "output_type": "execute_result"
        }
      ],
      "source": [
        "# результат запроса\n",
        "junior_vacancies = pd.read_sql_query(query_6_2, connection)\n",
        "junior_vacancies"
      ]
    },
    {
      "cell_type": "markdown",
      "id": "eedceb80-c5ca-480e-b27a-278dfb8b4438",
      "metadata": {
        "id": "eedceb80-c5ca-480e-b27a-278dfb8b4438"
      },
      "source": [
        "3. Сколько есть вакансий для DS, в которых в качестве ключевого навыка указан SQL или postgres?\n",
        "\n",
        "** Критерии для отнесения вакансии к DS указаны в предыдущем задании.*"
      ]
    },
    {
      "cell_type": "code",
      "execution_count": 44,
      "id": "69621713-0cc5-4f1b-a1d7-bb144fa6148c",
      "metadata": {
        "id": "69621713-0cc5-4f1b-a1d7-bb144fa6148c"
      },
      "outputs": [],
      "source": [
        "# текст запроса\n",
        "query_6_3 = f'''select \n",
        "                   count(*)   /* Выводим количество полученных значений */\n",
        "                from public.vacancies   /* Берем таблицу с вакансиями */\n",
        "                   /* Задаем условия для названия вакансии\n",
        "                   и для столбца с ключевыми навыками */\n",
        "                where (key_skills ilike '%SQL%'\n",
        "                       or key_skills ilike '%postgres%')\n",
        "                and\n",
        "                      (name ilike '%data scientist%'\n",
        "                       or name ilike '%data science%'\n",
        "                       or name ilike '%исследователь данных%'\n",
        "                       or (name ilike '%ML%' and name not ilike '%HTML%')\n",
        "                       or name ilike '%machine learning%'\n",
        "                       or name ilike '%машинн%обучен%')\n",
        "'''"
      ]
    },
    {
      "cell_type": "code",
      "execution_count": 45,
      "id": "alA8WEAAvGdf",
      "metadata": {
        "id": "alA8WEAAvGdf"
      },
      "outputs": [
        {
          "name": "stderr",
          "output_type": "stream",
          "text": [
            "C:\\Users\\Smoking Shop\\AppData\\Local\\Temp\\ipykernel_6800\\1632630962.py:2: UserWarning: pandas only supports SQLAlchemy connectable (engine/connection) or database string URI or sqlite3 DBAPI2 connection. Other DBAPI2 objects are not tested. Please consider using SQLAlchemy.\n",
            "  sql_skill_count = pd.read_sql_query(query_6_3, connection)\n"
          ]
        },
        {
          "data": {
            "text/html": [
              "<div>\n",
              "<style scoped>\n",
              "    .dataframe tbody tr th:only-of-type {\n",
              "        vertical-align: middle;\n",
              "    }\n",
              "\n",
              "    .dataframe tbody tr th {\n",
              "        vertical-align: top;\n",
              "    }\n",
              "\n",
              "    .dataframe thead th {\n",
              "        text-align: right;\n",
              "    }\n",
              "</style>\n",
              "<table border=\"1\" class=\"dataframe\">\n",
              "  <thead>\n",
              "    <tr style=\"text-align: right;\">\n",
              "      <th></th>\n",
              "      <th>count</th>\n",
              "    </tr>\n",
              "  </thead>\n",
              "  <tbody>\n",
              "    <tr>\n",
              "      <th>0</th>\n",
              "      <td>229</td>\n",
              "    </tr>\n",
              "  </tbody>\n",
              "</table>\n",
              "</div>"
            ],
            "text/plain": [
              "   count\n",
              "0    229"
            ]
          },
          "execution_count": 45,
          "metadata": {},
          "output_type": "execute_result"
        }
      ],
      "source": [
        "# результат запроса\n",
        "sql_skill_count = pd.read_sql_query(query_6_3, connection)\n",
        "sql_skill_count"
      ]
    },
    {
      "cell_type": "markdown",
      "id": "1be1e9c6-37cf-4a5f-bfeb-04cab799dc80",
      "metadata": {
        "id": "1be1e9c6-37cf-4a5f-bfeb-04cab799dc80"
      },
      "source": [
        "4. Проверьте, насколько популярен Python в требованиях работодателей к DS.Для этого вычислите количество вакансий, в которых в качестве ключевого навыка указан Python.\n",
        "\n",
        "** Это можно сделать помощью запроса, аналогичного предыдущему.*"
      ]
    },
    {
      "cell_type": "code",
      "execution_count": 46,
      "id": "0036a355-9ccf-4564-8b01-73d8194297e7",
      "metadata": {
        "id": "0036a355-9ccf-4564-8b01-73d8194297e7"
      },
      "outputs": [],
      "source": [
        "# текст запроса\n",
        "query_6_4 = f'''select \n",
        "                   count(*)   /* Выводим количество полученных значений */\n",
        "                from public.vacancies   /* Берем таблицу с вакансиями */\n",
        "                   /* Задаем условия для столбца с ключевыми навыками\n",
        "                   и для названия вакансий */\n",
        "                where (key_skills ilike '%Python%')\n",
        "                and\n",
        "                      (name ilike '%data scientist%'\n",
        "                       or name ilike '%data science%'\n",
        "                       or name ilike '%исследователь данных%'\n",
        "                       or (name ilike '%ML%' and name not ilike '%HTML%')\n",
        "                       or name ilike '%machine learning%'\n",
        "                       or name ilike '%машинн%обучен%')\n",
        "'''"
      ]
    },
    {
      "cell_type": "code",
      "execution_count": 47,
      "id": "1i-5WyucvQ6v",
      "metadata": {
        "id": "1i-5WyucvQ6v"
      },
      "outputs": [
        {
          "name": "stderr",
          "output_type": "stream",
          "text": [
            "C:\\Users\\Smoking Shop\\AppData\\Local\\Temp\\ipykernel_6800\\4081203180.py:2: UserWarning: pandas only supports SQLAlchemy connectable (engine/connection) or database string URI or sqlite3 DBAPI2 connection. Other DBAPI2 objects are not tested. Please consider using SQLAlchemy.\n",
            "  python_skill_count = pd.read_sql_query(query_6_4, connection)\n"
          ]
        },
        {
          "data": {
            "text/html": [
              "<div>\n",
              "<style scoped>\n",
              "    .dataframe tbody tr th:only-of-type {\n",
              "        vertical-align: middle;\n",
              "    }\n",
              "\n",
              "    .dataframe tbody tr th {\n",
              "        vertical-align: top;\n",
              "    }\n",
              "\n",
              "    .dataframe thead th {\n",
              "        text-align: right;\n",
              "    }\n",
              "</style>\n",
              "<table border=\"1\" class=\"dataframe\">\n",
              "  <thead>\n",
              "    <tr style=\"text-align: right;\">\n",
              "      <th></th>\n",
              "      <th>count</th>\n",
              "    </tr>\n",
              "  </thead>\n",
              "  <tbody>\n",
              "    <tr>\n",
              "      <th>0</th>\n",
              "      <td>357</td>\n",
              "    </tr>\n",
              "  </tbody>\n",
              "</table>\n",
              "</div>"
            ],
            "text/plain": [
              "   count\n",
              "0    357"
            ]
          },
          "execution_count": 47,
          "metadata": {},
          "output_type": "execute_result"
        }
      ],
      "source": [
        "# результат запроса\n",
        "python_skill_count = pd.read_sql_query(query_6_4, connection)\n",
        "python_skill_count"
      ]
    },
    {
      "cell_type": "markdown",
      "id": "ec3c8db7-fa21-4a41-a994-1af63742a642",
      "metadata": {
        "id": "ec3c8db7-fa21-4a41-a994-1af63742a642"
      },
      "source": [
        "5. Сколько ключевых навыков в среднем указывают в вакансиях для DS?\n",
        "Ответ округлите до двух знаков после точки-разделителя."
      ]
    },
    {
      "cell_type": "code",
      "execution_count": 48,
      "id": "949132bc-d5b6-4611-8218-0b9a504d74f4",
      "metadata": {
        "id": "949132bc-d5b6-4611-8218-0b9a504d74f4"
      },
      "outputs": [],
      "source": [
        "# текст запроса\n",
        "query_6_5 = f'''select \n",
        "                   /* Вычисляем среднию длину для строки столбца с ключевыми навыками */\n",
        "                   round(avg(length(key_skills) - length(replace(key_skills,CHR(9),''))+1),2)\n",
        "                from public.vacancies   /* Берем таблицу вакансий */\n",
        "                   /* Задаем условия для названия вакансии\n",
        "                   и для столбца с ключевыми навыками ( не должен быть пустым) */\n",
        "                where(\n",
        "                   name ilike '%data scientist%'\n",
        "                   or name ilike '%data science%'\n",
        "                   or name ilike '%исследователь данных%'\n",
        "                   or name like '%ML%' and name not ilike '%HTML%'\n",
        "                   or name ilike '%machine learning%'\n",
        "                   or name ilike '%машинн%обучен%'\n",
        "                   and key_skills is not null)\n",
        "'''"
      ]
    },
    {
      "cell_type": "code",
      "execution_count": 49,
      "id": "a3V24Tvmviqk",
      "metadata": {
        "id": "a3V24Tvmviqk"
      },
      "outputs": [
        {
          "name": "stderr",
          "output_type": "stream",
          "text": [
            "C:\\Users\\Smoking Shop\\AppData\\Local\\Temp\\ipykernel_6800\\1420788191.py:2: UserWarning: pandas only supports SQLAlchemy connectable (engine/connection) or database string URI or sqlite3 DBAPI2 connection. Other DBAPI2 objects are not tested. Please consider using SQLAlchemy.\n",
            "  avg_skill_len = pd.read_sql_query(query_6_5, connection)\n"
          ]
        },
        {
          "data": {
            "text/html": [
              "<div>\n",
              "<style scoped>\n",
              "    .dataframe tbody tr th:only-of-type {\n",
              "        vertical-align: middle;\n",
              "    }\n",
              "\n",
              "    .dataframe tbody tr th {\n",
              "        vertical-align: top;\n",
              "    }\n",
              "\n",
              "    .dataframe thead th {\n",
              "        text-align: right;\n",
              "    }\n",
              "</style>\n",
              "<table border=\"1\" class=\"dataframe\">\n",
              "  <thead>\n",
              "    <tr style=\"text-align: right;\">\n",
              "      <th></th>\n",
              "      <th>round</th>\n",
              "    </tr>\n",
              "  </thead>\n",
              "  <tbody>\n",
              "    <tr>\n",
              "      <th>0</th>\n",
              "      <td>6.41</td>\n",
              "    </tr>\n",
              "  </tbody>\n",
              "</table>\n",
              "</div>"
            ],
            "text/plain": [
              "   round\n",
              "0   6.41"
            ]
          },
          "execution_count": 49,
          "metadata": {},
          "output_type": "execute_result"
        }
      ],
      "source": [
        "# результат запроса\n",
        "avg_skill_len = pd.read_sql_query(query_6_5, connection)\n",
        "avg_skill_len"
      ]
    },
    {
      "cell_type": "markdown",
      "id": "1041c17a-ca8f-4543-a0ca-32778914fb00",
      "metadata": {
        "id": "1041c17a-ca8f-4543-a0ca-32778914fb00"
      },
      "source": [
        "6. Напишите запрос, позволяющий вычислить, какую зарплату для DS в **среднем** указывают для каждого типа требуемого опыта (уникальное значение из поля *experience*). \n",
        "\n",
        "При решении задачи примите во внимание следующее:\n",
        "1. Рассматриваем только вакансии, у которых заполнено хотя бы одно из двух полей с зарплатой.\n",
        "2. Если заполнены оба поля с зарплатой, то считаем зарплату по каждой вакансии как сумму двух полей, делённую на 2. Если заполнено только одно из полей, то его и считаем зарплатой по вакансии.\n",
        "3. Если в расчётах участвует null, в результате он тоже даст null (посмотрите, что возвращает запрос select 1 + null). Чтобы избежать этой ситуацию, мы воспользуемся функцией [coalesce](https://postgrespro.ru/docs/postgresql/9.5/functions-conditional#functions-coalesce-nvl-ifnull), которая заменит null на значение, которое мы передадим. Например, посмотрите, что возвращает запрос `select 1 + coalesce(null, 0)`\n",
        "\n",
        "Выясните, на какую зарплату в среднем может рассчитывать дата-сайентист с опытом работы от 3 до 6 лет. Результат округлите до целого числа. "
      ]
    },
    {
      "cell_type": "code",
      "execution_count": 50,
      "id": "6a743d39-5204-48d3-8271-b9f88e68d40e",
      "metadata": {
        "id": "6a743d39-5204-48d3-8271-b9f88e68d40e"
      },
      "outputs": [],
      "source": [
        "# текст запроса\n",
        "query_6_6 = f'''select \n",
        "                   experience,   /* Выводим столбец опыта работы */\n",
        "                      /* Вычисляем средний показатель заработной платы */\n",
        "                   round(avg(coalesce((salary_from + salary_to) / 2, salary_from, salary_to)), 0) avg_salary\n",
        "                from public.vacancies   /* Берем таблицу вакансий */\n",
        "                   /* Задаем условия для столбцов начального порога зп и макисмального порога зп (хотя бы один столбец должен иметь не пустое значение)\n",
        "                   и для названия вакансии */\n",
        "                where (salary_from is not null or salary_to is not null)\n",
        "                and\n",
        "                      (name ilike '%data scientist%'\n",
        "                       or name ilike '%data science%'\n",
        "                       or name ilike '%исследователь данных%'\n",
        "                       or name like '%ML%' and name not ilike '%HTML%'\n",
        "                       or name ilike '%machine learning%'\n",
        "                       or name ilike '%машинн%обучен%')\n",
        "                group by 1   /* Группируем по столбцу experience */\n",
        "                order by 2   /* Сортируем по столбцу среднего значения зп в порядке возрастания */\n",
        "'''"
      ]
    },
    {
      "cell_type": "code",
      "execution_count": 51,
      "id": "aRIJ0mZEwU1_",
      "metadata": {
        "id": "aRIJ0mZEwU1_"
      },
      "outputs": [
        {
          "name": "stderr",
          "output_type": "stream",
          "text": [
            "C:\\Users\\Smoking Shop\\AppData\\Local\\Temp\\ipykernel_6800\\1638597233.py:2: UserWarning: pandas only supports SQLAlchemy connectable (engine/connection) or database string URI or sqlite3 DBAPI2 connection. Other DBAPI2 objects are not tested. Please consider using SQLAlchemy.\n",
            "  salary_by_experience = pd.read_sql_query(query_6_6, connection)\n"
          ]
        },
        {
          "data": {
            "text/html": [
              "<div>\n",
              "<style scoped>\n",
              "    .dataframe tbody tr th:only-of-type {\n",
              "        vertical-align: middle;\n",
              "    }\n",
              "\n",
              "    .dataframe tbody tr th {\n",
              "        vertical-align: top;\n",
              "    }\n",
              "\n",
              "    .dataframe thead th {\n",
              "        text-align: right;\n",
              "    }\n",
              "</style>\n",
              "<table border=\"1\" class=\"dataframe\">\n",
              "  <thead>\n",
              "    <tr style=\"text-align: right;\">\n",
              "      <th></th>\n",
              "      <th>experience</th>\n",
              "      <th>avg_salary</th>\n",
              "    </tr>\n",
              "  </thead>\n",
              "  <tbody>\n",
              "    <tr>\n",
              "      <th>0</th>\n",
              "      <td>Нет опыта</td>\n",
              "      <td>74643.0</td>\n",
              "    </tr>\n",
              "    <tr>\n",
              "      <th>1</th>\n",
              "      <td>От 1 года до 3 лет</td>\n",
              "      <td>139675.0</td>\n",
              "    </tr>\n",
              "    <tr>\n",
              "      <th>2</th>\n",
              "      <td>От 3 до 6 лет</td>\n",
              "      <td>243115.0</td>\n",
              "    </tr>\n",
              "  </tbody>\n",
              "</table>\n",
              "</div>"
            ],
            "text/plain": [
              "           experience  avg_salary\n",
              "0           Нет опыта     74643.0\n",
              "1  От 1 года до 3 лет    139675.0\n",
              "2       От 3 до 6 лет    243115.0"
            ]
          },
          "execution_count": 51,
          "metadata": {},
          "output_type": "execute_result"
        }
      ],
      "source": [
        "# результат запроса\n",
        "salary_by_experience = pd.read_sql_query(query_6_6, connection)\n",
        "salary_by_experience"
      ]
    },
    {
      "cell_type": "markdown",
      "id": "6a7892b4-4113-4746-adce-18aa2844f18e",
      "metadata": {
        "id": "6a7892b4-4113-4746-adce-18aa2844f18e"
      },
      "source": [
        "***"
      ]
    },
    {
      "cell_type": "code",
      "execution_count": 52,
      "id": "UjLWUptVwY1o",
      "metadata": {
        "id": "UjLWUptVwY1o"
      },
      "outputs": [
        {
          "data": {
            "image/png": "[encoded data removed]",
            "text/plain": [
              "<Figure size 800x400 with 1 Axes>"
            ]
          },
          "metadata": {},
          "output_type": "display_data"
        }
      ],
      "source": [
        "# выводы по предметному анализу\n",
        "# График, демонстрирующий зависимость средней заработной платы от опыта работы\n",
        "fig, ax = plt.subplots(1, 1, figsize=(8, 4))\n",
        "barplot = sns.barplot(data = salary_by_experience,\n",
        "                        x= 'experience',\n",
        "                        y= 'avg_salary',\n",
        "                        ax=ax)\n",
        "ax.set_title('Показатель средней зп в зависимости от опыта работы');\n",
        "ax.set_xlabel('Опыт работы');\n",
        "ax.set_ylabel('Средняя заработная плата');"
      ]
    },
    {
      "cell_type": "markdown",
      "id": "94d321e0",
      "metadata": {},
      "source": [
        "## Выводы: ##\n",
        "* 1. Непосредственно к данным относяться 1771 вакансия. При этом для начинаюших дата-саентистов всего 51 вакансия. Что говорит о том, что работодатели ищут людей имеющих некоторый опыт в данной сфере. В свою очередь это говорит о наличии необходимости опытных специалистов в связи с возросшей надобностью в данной IT-сфере.\n",
        "* 2. Навыки SQL требуются в 229 вакансиях, а навыки по работе с Python в 357. Но есть вероятность, что так как эти навыки являются едва ли не самыми основными для дата-саентиста, их могут не указывать в обязательном порядке. Тем более что большинство вакансий расчитано на соискателей с опытом работы, то скорее всего нет необходимости включать данные навыки в описание вакансии.\n",
        "* 3. В среднем в описании вакансии указано больше 6 ключевых навыков. Это говорит и широком профиле возможностей и знаний для опытного дата-саентиста.\n",
        "* 4. Показатели средней заработной платы естественно растут с опытом работы. Так дата-саентист с опытом работы более 3 лет, претендует на заработную платы в 3 раза выше чем специалист без опыта работы."
      ]
    },
    {
      "cell_type": "markdown",
      "id": "c0ED6fh7wiBT",
      "metadata": {
        "id": "c0ED6fh7wiBT"
      },
      "source": [
        "# Общий вывод по проекту"
      ]
    },
    {
      "cell_type": "code",
      "execution_count": 53,
      "id": "h9B3BL-wwj18",
      "metadata": {
        "id": "h9B3BL-wwj18"
      },
      "outputs": [],
      "source": [
        "# подведем итог исследования, обобщите выводы\n",
        "# здесь можно (это будет плюсом) провести дополнительные исследования данных, сделать прогнозы, продумать варианты продолжения исследования\n",
        "# Приведем запрос, показывающий среднюю заработную плату IT-специалистов по городам-миллионникам\n",
        "query = f'''select\n",
        "                   a.name area_name,   /* Выводим столбец с названиями регионов таблицы а */\n",
        "                   round(avg(coalesce((v.salary_from + v.salary_to) / 2, v.salary_from, v.salary_to)), 0) avg_salary /* Считаем средний показатель зп, алиас avg_salary */\n",
        "                from public.vacancies v   /* Берем основную таблицу вакансий, алиас v */\n",
        "                join public.areas a on a.id = v.area_id   /* Присоединяем таблицу с регионами, алиас а, по id региона */\n",
        "                group by 1   /* Группируем по столбцу с названием региона */\n",
        "                having a.name in {million_cities}   /* Задаем условие что название региона есть в списке городов-миллионников */\n",
        "                order by 2 desc /* сортируем по столбцу средней зп avg_salary */\n",
        "'''"
      ]
    },
    {
      "cell_type": "code",
      "execution_count": 54,
      "id": "fc3f10e6",
      "metadata": {},
      "outputs": [
        {
          "name": "stderr",
          "output_type": "stream",
          "text": [
            "C:\\Users\\Smoking Shop\\AppData\\Local\\Temp\\ipykernel_6800\\4146400342.py:2: UserWarning: pandas only supports SQLAlchemy connectable (engine/connection) or database string URI or sqlite3 DBAPI2 connection. Other DBAPI2 objects are not tested. Please consider using SQLAlchemy.\n",
            "  salary_by_region = pd.read_sql_query(query, connection)\n"
          ]
        },
        {
          "data": {
            "text/html": [
              "<div>\n",
              "<style scoped>\n",
              "    .dataframe tbody tr th:only-of-type {\n",
              "        vertical-align: middle;\n",
              "    }\n",
              "\n",
              "    .dataframe tbody tr th {\n",
              "        vertical-align: top;\n",
              "    }\n",
              "\n",
              "    .dataframe thead th {\n",
              "        text-align: right;\n",
              "    }\n",
              "</style>\n",
              "<table border=\"1\" class=\"dataframe\">\n",
              "  <thead>\n",
              "    <tr style=\"text-align: right;\">\n",
              "      <th></th>\n",
              "      <th>area_name</th>\n",
              "      <th>avg_salary</th>\n",
              "    </tr>\n",
              "  </thead>\n",
              "  <tbody>\n",
              "    <tr>\n",
              "      <th>0</th>\n",
              "      <td>Москва</td>\n",
              "      <td>134140.0</td>\n",
              "    </tr>\n",
              "    <tr>\n",
              "      <th>1</th>\n",
              "      <td>Новосибирск</td>\n",
              "      <td>107777.0</td>\n",
              "    </tr>\n",
              "    <tr>\n",
              "      <th>2</th>\n",
              "      <td>Санкт-Петербург</td>\n",
              "      <td>104410.0</td>\n",
              "    </tr>\n",
              "    <tr>\n",
              "      <th>3</th>\n",
              "      <td>Нижний Новгород</td>\n",
              "      <td>96059.0</td>\n",
              "    </tr>\n",
              "    <tr>\n",
              "      <th>4</th>\n",
              "      <td>Пермь</td>\n",
              "      <td>95985.0</td>\n",
              "    </tr>\n",
              "    <tr>\n",
              "      <th>5</th>\n",
              "      <td>Ростов-на-Дону</td>\n",
              "      <td>94065.0</td>\n",
              "    </tr>\n",
              "    <tr>\n",
              "      <th>6</th>\n",
              "      <td>Краснодар</td>\n",
              "      <td>92328.0</td>\n",
              "    </tr>\n",
              "    <tr>\n",
              "      <th>7</th>\n",
              "      <td>Казань</td>\n",
              "      <td>92207.0</td>\n",
              "    </tr>\n",
              "    <tr>\n",
              "      <th>8</th>\n",
              "      <td>Екатеринбург</td>\n",
              "      <td>91896.0</td>\n",
              "    </tr>\n",
              "    <tr>\n",
              "      <th>9</th>\n",
              "      <td>Омск</td>\n",
              "      <td>86393.0</td>\n",
              "    </tr>\n",
              "    <tr>\n",
              "      <th>10</th>\n",
              "      <td>Воронеж</td>\n",
              "      <td>84958.0</td>\n",
              "    </tr>\n",
              "    <tr>\n",
              "      <th>11</th>\n",
              "      <td>Самара</td>\n",
              "      <td>80223.0</td>\n",
              "    </tr>\n",
              "    <tr>\n",
              "      <th>12</th>\n",
              "      <td>Челябинск</td>\n",
              "      <td>77463.0</td>\n",
              "    </tr>\n",
              "    <tr>\n",
              "      <th>13</th>\n",
              "      <td>Красноярск</td>\n",
              "      <td>75156.0</td>\n",
              "    </tr>\n",
              "    <tr>\n",
              "      <th>14</th>\n",
              "      <td>Уфа</td>\n",
              "      <td>74733.0</td>\n",
              "    </tr>\n",
              "    <tr>\n",
              "      <th>15</th>\n",
              "      <td>Волгоград</td>\n",
              "      <td>68689.0</td>\n",
              "    </tr>\n",
              "  </tbody>\n",
              "</table>\n",
              "</div>"
            ],
            "text/plain": [
              "          area_name  avg_salary\n",
              "0            Москва    134140.0\n",
              "1       Новосибирск    107777.0\n",
              "2   Санкт-Петербург    104410.0\n",
              "3   Нижний Новгород     96059.0\n",
              "4             Пермь     95985.0\n",
              "5    Ростов-на-Дону     94065.0\n",
              "6         Краснодар     92328.0\n",
              "7            Казань     92207.0\n",
              "8      Екатеринбург     91896.0\n",
              "9              Омск     86393.0\n",
              "10          Воронеж     84958.0\n",
              "11           Самара     80223.0\n",
              "12        Челябинск     77463.0\n",
              "13       Красноярск     75156.0\n",
              "14              Уфа     74733.0\n",
              "15        Волгоград     68689.0"
            ]
          },
          "execution_count": 54,
          "metadata": {},
          "output_type": "execute_result"
        }
      ],
      "source": [
        "# Результат нашего запроса\n",
        "salary_by_region = pd.read_sql_query(query, connection)\n",
        "salary_by_region"
      ]
    },
    {
      "cell_type": "code",
      "execution_count": 55,
      "id": "aa1db073",
      "metadata": {},
      "outputs": [
        {
          "data": {
            "image/png": "[encoded data removed]",
            "text/plain": [
              "<Figure size 800x400 with 1 Axes>"
            ]
          },
          "metadata": {},
          "output_type": "display_data"
        }
      ],
      "source": [
        "# График, демонстрирующий средний опказатель зп IT-специалиста в городах-миллионниках\n",
        "fig, ax = plt.subplots(1, 1, figsize=(8, 4))\n",
        "barplot = sns.barplot(data = salary_by_region,\n",
        "                        x= 'area_name',\n",
        "                        y= 'avg_salary',\n",
        "                        ax=ax)\n",
        "ax.set_title('Уровень средней зп в городах_миллионниках');\n",
        "ax.set_xlabel('Города-миллионники');\n",
        "ax.xaxis.set_tick_params(rotation=30,labelsize=7)\n",
        "ax.set_ylabel('Уровень заработной платы');"
      ]
    },
    {
      "cell_type": "code",
      "execution_count": 56,
      "id": "4caab5bc",
      "metadata": {},
      "outputs": [],
      "source": [
        "# Ради интереса попробуем вывести данные по уровню средней зп для дата-саентистов, сгруппированные по работодателям\n",
        "query_1 = f'''select \n",
        "                   e.name employer_name, /* Выводим столбец с названием работодателя таблицы е, алиас employer_name */\n",
        "                   round(avg(coalesce((v.salary_from + v.salary_to) / 2, v.salary_from, v.salary_to)), 0) avg_salary /* Считаем показатель средней зп, алиас avg_salary */\n",
        "                from public.vacancies v  /* Берем таблицу с вакансиями, алиас v */\n",
        "                join public.employers e on e.id = v.employer_id /* Присоединяем таблицу работодателей с алиасом е по id работодателя */\n",
        "                   /* Задаем условия для названия вакансии */\n",
        "                where v.name like '%data%' \n",
        "                   or v.name like '%данн%' \n",
        "                   or v.name like upper('%data%') \n",
        "                   or v.name like upper('%данн%')\n",
        "                   or v.name like '%Data%'\n",
        "                   or v.name like '%Данн%'\n",
        "                group by 1 /* Группируем по столбцу с названием работодателя employer_name */\n",
        "                having round(avg(coalesce((v.salary_from + v.salary_to) / 2, v.salary_from, v.salary_to)), 0) is not null /* Исключаем значения равные 0 */\n",
        "                order by 2 desc /* Сортируем по столбцу средней зп avg_salary */\n",
        "'''"
      ]
    },
    {
      "cell_type": "code",
      "execution_count": 57,
      "id": "6ca74962",
      "metadata": {},
      "outputs": [
        {
          "name": "stderr",
          "output_type": "stream",
          "text": [
            "C:\\Users\\Smoking Shop\\AppData\\Local\\Temp\\ipykernel_6800\\3616963513.py:2: UserWarning: pandas only supports SQLAlchemy connectable (engine/connection) or database string URI or sqlite3 DBAPI2 connection. Other DBAPI2 objects are not tested. Please consider using SQLAlchemy.\n",
            "  ds_salary_employers = pd.read_sql_query(query_1, connection)\n"
          ]
        },
        {
          "data": {
            "text/html": [
              "<div>\n",
              "<style scoped>\n",
              "    .dataframe tbody tr th:only-of-type {\n",
              "        vertical-align: middle;\n",
              "    }\n",
              "\n",
              "    .dataframe tbody tr th {\n",
              "        vertical-align: top;\n",
              "    }\n",
              "\n",
              "    .dataframe thead th {\n",
              "        text-align: right;\n",
              "    }\n",
              "</style>\n",
              "<table border=\"1\" class=\"dataframe\">\n",
              "  <thead>\n",
              "    <tr style=\"text-align: right;\">\n",
              "      <th></th>\n",
              "      <th>employer_name</th>\n",
              "      <th>avg_salary</th>\n",
              "    </tr>\n",
              "  </thead>\n",
              "  <tbody>\n",
              "    <tr>\n",
              "      <th>0</th>\n",
              "      <td>Итон</td>\n",
              "      <td>450000.0</td>\n",
              "    </tr>\n",
              "    <tr>\n",
              "      <th>1</th>\n",
              "      <td>Querify Labs</td>\n",
              "      <td>400000.0</td>\n",
              "    </tr>\n",
              "    <tr>\n",
              "      <th>2</th>\n",
              "      <td>AppQuantum</td>\n",
              "      <td>350000.0</td>\n",
              "    </tr>\n",
              "    <tr>\n",
              "      <th>3</th>\n",
              "      <td>Hi, Rockits!</td>\n",
              "      <td>310000.0</td>\n",
              "    </tr>\n",
              "    <tr>\n",
              "      <th>4</th>\n",
              "      <td>OVISION</td>\n",
              "      <td>300000.0</td>\n",
              "    </tr>\n",
              "    <tr>\n",
              "      <th>...</th>\n",
              "      <td>...</td>\n",
              "      <td>...</td>\n",
              "    </tr>\n",
              "    <tr>\n",
              "      <th>234</th>\n",
              "      <td>ОГКУ ЦСПН Ленинского района г. Томска</td>\n",
              "      <td>20550.0</td>\n",
              "    </tr>\n",
              "    <tr>\n",
              "      <th>235</th>\n",
              "      <td>Мелентов</td>\n",
              "      <td>20024.0</td>\n",
              "    </tr>\n",
              "    <tr>\n",
              "      <th>236</th>\n",
              "      <td>My Sky</td>\n",
              "      <td>20000.0</td>\n",
              "    </tr>\n",
              "    <tr>\n",
              "      <th>237</th>\n",
              "      <td>Silk Route Trading Ltd</td>\n",
              "      <td>13835.0</td>\n",
              "    </tr>\n",
              "    <tr>\n",
              "      <th>238</th>\n",
              "      <td>Альтаир</td>\n",
              "      <td>60.0</td>\n",
              "    </tr>\n",
              "  </tbody>\n",
              "</table>\n",
              "<p>239 rows × 2 columns</p>\n",
              "</div>"
            ],
            "text/plain": [
              "                             employer_name  avg_salary\n",
              "0                                     Итон    450000.0\n",
              "1                             Querify Labs    400000.0\n",
              "2                               AppQuantum    350000.0\n",
              "3                             Hi, Rockits!    310000.0\n",
              "4                                  OVISION    300000.0\n",
              "..                                     ...         ...\n",
              "234  ОГКУ ЦСПН Ленинского района г. Томска     20550.0\n",
              "235                               Мелентов     20024.0\n",
              "236                                 My Sky     20000.0\n",
              "237                 Silk Route Trading Ltd     13835.0\n",
              "238                                Альтаир        60.0\n",
              "\n",
              "[239 rows x 2 columns]"
            ]
          },
          "execution_count": 57,
          "metadata": {},
          "output_type": "execute_result"
        }
      ],
      "source": [
        "# Результат запроса\n",
        "ds_salary_employers = pd.read_sql_query(query_1, connection)\n",
        "ds_salary_employers"
      ]
    },
    {
      "cell_type": "markdown",
      "id": "83f68b02",
      "metadata": {},
      "source": [
        "## Заключительные выводы: ##\n",
        "* 1. IT-область находится на стадии активного развития. Множество работодателей заинтересованы в данной области, и находятся в постоянном поиске специалистов для пополнения и расширения штата сотрудников во многих регионах.\n",
        "* 2. Набольшая сосредоточенность работодателей и вакансий наблюдается в крупных городах. В основном ищут специалистов на постоянное место работы с полной ставкой. Наблюдается сильная градация заработной платы в зависимости от опыта нужного специалиста.\n",
        "* 3. Большинство вакансий исходят от работодателей тесно связанных с компьютерными интернет технологиями (Яндекс, Ростелеком), так же большая востребованность в области банковских систем и тяжелой промышленности(Газпром, Спецремонт). Многие работодатели занимаются развитием соственных IT-технологий.\n",
        "* 4. IT-область очень широка. Так DataScience занимает небольшой процент от общего числа вакансий. Это вероятно следствие сложности данной проффесии (в вакансиях по DS указывается большое число необходимых навыков для работы), так и относительной молодости самого направления в сравнении с другими IT-областями. Также в DS наблюдается сильная градация заработной платы в зависимости от опыта специалиста."
      ]
    }
  ],
  "metadata": {
    "colab": {
      "collapsed_sections": [
        "8d62a9f3-f64e-4fe7-bdac-c4dffa16155e"
      ],
      "provenance": []
    },
    "kernelspec": {
      "display_name": "Python 3 (ipykernel)",
      "language": "python",
      "name": "python3"
    },
    "language_info": {
      "codemirror_mode": {
        "name": "ipython",
        "version": 3
      },
      "file_extension": ".py",
      "mimetype": "text/x-python",
      "name": "python",
      "nbconvert_exporter": "python",
      "pygments_lexer": "ipython3",
      "version": "3.9.10"
    }
  },
  "nbformat": 4,
  "nbformat_minor": 5
}
